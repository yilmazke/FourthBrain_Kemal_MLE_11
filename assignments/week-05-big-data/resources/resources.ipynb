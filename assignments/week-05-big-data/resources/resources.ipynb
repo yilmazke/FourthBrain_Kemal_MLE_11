{
 "cells": [
  {
   "cell_type": "code",
   "execution_count": null,
   "metadata": {},
   "outputs": [],
   "source": []
  },
  {
   "attachments": {},
   "cell_type": "markdown",
   "metadata": {},
   "source": [
    "https://docs.databricks.com/mlflow/quick-start-python.html\n",
    "\n",
    "https://docs.databricks.com/machine-learning/tutorial/index.html#tutorials-get-started-with-ml\n",
    "\n",
    "https://docs.databricks.com/getting-started/quick-start.html#tutorial-query-data-with-notebooks\n",
    "\n",
    "\n",
    "\n",
    "https://pages.databricks.com/rs/094-YMS-629/images/Delta%20Lake%20Cheat%20Sheet.pdf\n",
    "\n",
    "https://spark.apache.org/docs/latest/sql-data-sources-csv.html\n",
    "\n",
    "https://colab.research.google.com/drive/17GH7jX7ONf-KQ8jdG7_3WjglTcxl2SE4?usp=sharing\n",
    "\n",
    "\n"
   ]
  }
 ],
 "metadata": {
  "language_info": {
   "name": "python"
  },
  "orig_nbformat": 4
 },
 "nbformat": 4,
 "nbformat_minor": 2
}
