{
  "cells": [
    {
      "cell_type": "markdown",
      "metadata": {
        "id": "uvQ6ov4HzBKX"
      },
      "source": [
        "<p align = \"center\" draggable=”false” ><img src=\"https://user-images.githubusercontent.com/37101144/161836199-fdb0219d-0361-4988-bf26-48b0fad160a3.png\" \n",
        "     width=\"200px\"\n",
        "     height=\"auto\"/>\n",
        "</p>"
      ]
    },
    {
      "cell_type": "markdown",
      "metadata": {
        "id": "9V9ctujXqHSO"
      },
      "source": [
        "# Hate Speech Detector"
      ]
    },
    {
      "cell_type": "markdown",
      "metadata": {
        "id": "hIZSzVH_qHSO"
      },
      "source": [
        "Today you are a machine learning engineer, a member of the Birdwatch at Twitter. \n",
        "\n",
        "The objective of this task is to detect hate speech in tweets. For the sake of simplicity, a tweet contains hate speech if it has a racist or sexist sentiment associated with it. In other words, we need to classify racist or sexist tweets from other tweets.\n",
        "\n",
        "A labelled dataset of 31,962 tweets (late 2017 to early 2018) is provided in the form of a compressed csv file with each line storing a tweet id, its label, and the tweet. Label '1' denotes the tweet is racist/sexist while label '0' denotes the tweet is not racist/sexist.\n",
        "\n",
        "We will first approach the problem in a traditional approach: clean the raw text using simple regex (regular expression), extract features, build a naive Bayes models to classify tweets; then we build a deep learning model and explain our deep learning model with LIME."
      ]
    },
    {
      "cell_type": "markdown",
      "metadata": {
        "id": "KUnzuOszqHSP"
      },
      "source": [
        "## 📚 Learning Objectives"
      ]
    },
    {
      "cell_type": "markdown",
      "metadata": {
        "id": "w8Z3BzFrqHSP"
      },
      "source": [
        "By the end of this lesson, you will be able to:\n",
        "\n",
        "- Understand the basic concepts in natural language processing (NLP)\n",
        "- Perform basic NLP tasks on text, e.g., tweets\n",
        "- Build a naive Bayes classifier to detect hate speech \n",
        "- Build a bidirectional long short-term memory (BiLSTM) to detect hate speech\n",
        "- Visualize embeddings with Tensorboard embedding projector\n",
        "- Explain models with LIME"
      ]
    },
    {
      "cell_type": "markdown",
      "metadata": {
        "id": "9KdYEyU4zNGU"
      },
      "source": [
        "# Task I: Data Preprocessing\n"
      ]
    },
    {
      "cell_type": "markdown",
      "metadata": {
        "id": "ESJru9iiqHSQ"
      },
      "source": [
        "1. Install dependencies.\n",
        "\n",
        "    Most modules are pre-installed in Colab, however, we need to update `gensim` to its recent version and install `lime`."
      ]
    },
    {
      "cell_type": "code",
      "execution_count": 1,
      "metadata": {
        "colab": {
          "base_uri": "https://localhost:8080/"
        },
        "id": "pzQ5eaRK6-GB",
        "outputId": "74ba1d05-900c-4db5-9ed2-d17450bd0edd",
        "scrolled": true
      },
      "outputs": [
        {
          "output_type": "stream",
          "name": "stdout",
          "text": [
            "\u001b[2K     \u001b[90m━━━━━━━━━━━━━━━━━━━━━━━━━━━━━━━━━━━━━━━━\u001b[0m \u001b[32m24.0/24.0 MB\u001b[0m \u001b[31m24.0 MB/s\u001b[0m eta \u001b[36m0:00:00\u001b[0m\n",
            "\u001b[2K     \u001b[90m━━━━━━━━━━━━━━━━━━━━━━━━━━━━━━━━━━━━━━━\u001b[0m \u001b[32m275.7/275.7 KB\u001b[0m \u001b[31m6.7 MB/s\u001b[0m eta \u001b[36m0:00:00\u001b[0m\n",
            "\u001b[?25h  Preparing metadata (setup.py) ... \u001b[?25l\u001b[?25hdone\n",
            "  Building wheel for lime (setup.py) ... \u001b[?25l\u001b[?25hdone\n"
          ]
        }
      ],
      "source": [
        "!pip install -U -q gensim==4.2.0 lime"
      ]
    },
    {
      "cell_type": "markdown",
      "metadata": {
        "id": "yfT65m3lyxZ_"
      },
      "source": [
        "2. Connect Colab to your local Google Drive."
      ]
    },
    {
      "cell_type": "code",
      "execution_count": 2,
      "metadata": {
        "colab": {
          "base_uri": "https://localhost:8080/"
        },
        "id": "FOuYW07fyzbP",
        "outputId": "b66fa0d1-fa51-4aca-afb3-3f3d0b87a198"
      },
      "outputs": [
        {
          "output_type": "stream",
          "name": "stdout",
          "text": [
            "Mounted at /content/drive\n"
          ]
        }
      ],
      "source": [
        "from google.colab import drive\n",
        "drive.mount('/content/drive')"
      ]
    },
    {
      "cell_type": "markdown",
      "metadata": {
        "id": "Ws9_nx44qHSZ"
      },
      "source": [
        "3. Use `pandas.read_csv` to load the tweets in `tweets.csv.gz` and save the `pd.DataFrame` into `raw`. Make sure the path points to where the data is located in your Google Drive. "
      ]
    },
    {
      "cell_type": "code",
      "execution_count": 11,
      "metadata": {
        "id": "pOc7kHGny04E",
        "colab": {
          "base_uri": "https://localhost:8080/"
        },
        "outputId": "845517ea-7e7f-4148-8314-ae88887c85f7"
      },
      "outputs": [
        {
          "output_type": "stream",
          "name": "stdout",
          "text": [
            "   id  label                                              tweet\n",
            "0   1      0   @user when a father is dysfunctional and is s...\n",
            "1   2      0  @user @user thanks for #lyft credit i can't us...\n",
            "2   3      0                                bihday your majesty\n",
            "3   4      0  #model   i love u take with u all the time in ...\n",
            "4   5      0             factsguide: society now    #motivation\n"
          ]
        }
      ],
      "source": [
        "import pandas as pd # YOUR CODE HERE\n",
        "\n",
        "raw = pd.read_csv('tweets.csv.gz')\n",
        "print(raw.head())"
      ]
    },
    {
      "cell_type": "code",
      "execution_count": 10,
      "metadata": {
        "colab": {
          "base_uri": "https://localhost:8080/"
        },
        "id": "y85-t5JzzihL",
        "outputId": "ba56361d-0cf5-46f9-bdd8-06492adf7d3e"
      },
      "outputs": [
        {
          "output_type": "stream",
          "name": "stdout",
          "text": [
            "<class 'pandas.core.frame.DataFrame'>\n",
            "RangeIndex: 31962 entries, 0 to 31961\n",
            "Data columns (total 3 columns):\n",
            " #   Column  Non-Null Count  Dtype \n",
            "---  ------  --------------  ----- \n",
            " 0   id      31962 non-null  int64 \n",
            " 1   label   31962 non-null  int64 \n",
            " 2   tweet   31962 non-null  object\n",
            "dtypes: int64(2), object(1)\n",
            "memory usage: 749.2+ KB\n",
            "None\n"
          ]
        }
      ],
      "source": [
        "print(raw.info())"
      ]
    },
    {
      "cell_type": "markdown",
      "metadata": {
        "id": "WvsKB7cmqHSa"
      },
      "source": [
        "4. Sample 5 random tweets from the dataset for each label and display `label` and `tweet` columns. \n",
        "Hint: one option is to use `sample()` followed by `groupby`. "
      ]
    },
    {
      "cell_type": "code",
      "execution_count": 12,
      "metadata": {
        "colab": {
          "base_uri": "https://localhost:8080/",
          "height": 298
        },
        "id": "6C7suQv4z7xE",
        "outputId": "431ff2d1-cf74-435f-e52a-acd2eebf80cc",
        "scrolled": true
      },
      "outputs": [
        {
          "output_type": "execute_result",
          "data": {
            "text/plain": [
              "          id  label                                              tweet\n",
              "15623  15624      0  finally bought the bentonite clay for my face ...\n",
              "217      218      0  on the way toraya #bus #alamindah #white #musi...\n",
              "5568    5569      0  excited for saturday i'm off to the fake festi...\n",
              "10381  10382      0    bihday queen #america #love #news #photograp...\n",
              "9728    9729      0  . . doggies happy gatheringó¾·ó¾ó¾¬ . . #d...\n",
              "29681  29682      1  @user #allahsoil not all westerners are islamo...\n",
              "24840  24841      1  @user #trumpusa they call you   #homophobic #m...\n",
              "22146  22147      1  @user obama has been the most destructive pres...\n",
              "13440  13441      1  why did the #unitednations resolve that #zioni...\n",
              "19589  19590      1  this is the type of  trash trump and paladino ..."
            ],
            "text/html": [
              "\n",
              "  <div id=\"df-08b93aa2-a725-4421-907d-422f6a3a719a\">\n",
              "    <div class=\"colab-df-container\">\n",
              "      <div>\n",
              "<style scoped>\n",
              "    .dataframe tbody tr th:only-of-type {\n",
              "        vertical-align: middle;\n",
              "    }\n",
              "\n",
              "    .dataframe tbody tr th {\n",
              "        vertical-align: top;\n",
              "    }\n",
              "\n",
              "    .dataframe thead th {\n",
              "        text-align: right;\n",
              "    }\n",
              "</style>\n",
              "<table border=\"1\" class=\"dataframe\">\n",
              "  <thead>\n",
              "    <tr style=\"text-align: right;\">\n",
              "      <th></th>\n",
              "      <th>id</th>\n",
              "      <th>label</th>\n",
              "      <th>tweet</th>\n",
              "    </tr>\n",
              "  </thead>\n",
              "  <tbody>\n",
              "    <tr>\n",
              "      <th>15623</th>\n",
              "      <td>15624</td>\n",
              "      <td>0</td>\n",
              "      <td>finally bought the bentonite clay for my face ...</td>\n",
              "    </tr>\n",
              "    <tr>\n",
              "      <th>217</th>\n",
              "      <td>218</td>\n",
              "      <td>0</td>\n",
              "      <td>on the way toraya #bus #alamindah #white #musi...</td>\n",
              "    </tr>\n",
              "    <tr>\n",
              "      <th>5568</th>\n",
              "      <td>5569</td>\n",
              "      <td>0</td>\n",
              "      <td>excited for saturday i'm off to the fake festi...</td>\n",
              "    </tr>\n",
              "    <tr>\n",
              "      <th>10381</th>\n",
              "      <td>10382</td>\n",
              "      <td>0</td>\n",
              "      <td>bihday queen #america #love #news #photograp...</td>\n",
              "    </tr>\n",
              "    <tr>\n",
              "      <th>9728</th>\n",
              "      <td>9729</td>\n",
              "      <td>0</td>\n",
              "      <td>. . doggies happy gatheringó¾·ó¾ó¾¬ . . #d...</td>\n",
              "    </tr>\n",
              "    <tr>\n",
              "      <th>29681</th>\n",
              "      <td>29682</td>\n",
              "      <td>1</td>\n",
              "      <td>@user #allahsoil not all westerners are islamo...</td>\n",
              "    </tr>\n",
              "    <tr>\n",
              "      <th>24840</th>\n",
              "      <td>24841</td>\n",
              "      <td>1</td>\n",
              "      <td>@user #trumpusa they call you   #homophobic #m...</td>\n",
              "    </tr>\n",
              "    <tr>\n",
              "      <th>22146</th>\n",
              "      <td>22147</td>\n",
              "      <td>1</td>\n",
              "      <td>@user obama has been the most destructive pres...</td>\n",
              "    </tr>\n",
              "    <tr>\n",
              "      <th>13440</th>\n",
              "      <td>13441</td>\n",
              "      <td>1</td>\n",
              "      <td>why did the #unitednations resolve that #zioni...</td>\n",
              "    </tr>\n",
              "    <tr>\n",
              "      <th>19589</th>\n",
              "      <td>19590</td>\n",
              "      <td>1</td>\n",
              "      <td>this is the type of  trash trump and paladino ...</td>\n",
              "    </tr>\n",
              "  </tbody>\n",
              "</table>\n",
              "</div>\n",
              "      <button class=\"colab-df-convert\" onclick=\"convertToInteractive('df-08b93aa2-a725-4421-907d-422f6a3a719a')\"\n",
              "              title=\"Convert this dataframe to an interactive table.\"\n",
              "              style=\"display:none;\">\n",
              "        \n",
              "  <svg xmlns=\"http://www.w3.org/2000/svg\" height=\"24px\"viewBox=\"0 0 24 24\"\n",
              "       width=\"24px\">\n",
              "    <path d=\"M0 0h24v24H0V0z\" fill=\"none\"/>\n",
              "    <path d=\"M18.56 5.44l.94 2.06.94-2.06 2.06-.94-2.06-.94-.94-2.06-.94 2.06-2.06.94zm-11 1L8.5 8.5l.94-2.06 2.06-.94-2.06-.94L8.5 2.5l-.94 2.06-2.06.94zm10 10l.94 2.06.94-2.06 2.06-.94-2.06-.94-.94-2.06-.94 2.06-2.06.94z\"/><path d=\"M17.41 7.96l-1.37-1.37c-.4-.4-.92-.59-1.43-.59-.52 0-1.04.2-1.43.59L10.3 9.45l-7.72 7.72c-.78.78-.78 2.05 0 2.83L4 21.41c.39.39.9.59 1.41.59.51 0 1.02-.2 1.41-.59l7.78-7.78 2.81-2.81c.8-.78.8-2.07 0-2.86zM5.41 20L4 18.59l7.72-7.72 1.47 1.35L5.41 20z\"/>\n",
              "  </svg>\n",
              "      </button>\n",
              "      \n",
              "  <style>\n",
              "    .colab-df-container {\n",
              "      display:flex;\n",
              "      flex-wrap:wrap;\n",
              "      gap: 12px;\n",
              "    }\n",
              "\n",
              "    .colab-df-convert {\n",
              "      background-color: #E8F0FE;\n",
              "      border: none;\n",
              "      border-radius: 50%;\n",
              "      cursor: pointer;\n",
              "      display: none;\n",
              "      fill: #1967D2;\n",
              "      height: 32px;\n",
              "      padding: 0 0 0 0;\n",
              "      width: 32px;\n",
              "    }\n",
              "\n",
              "    .colab-df-convert:hover {\n",
              "      background-color: #E2EBFA;\n",
              "      box-shadow: 0px 1px 2px rgba(60, 64, 67, 0.3), 0px 1px 3px 1px rgba(60, 64, 67, 0.15);\n",
              "      fill: #174EA6;\n",
              "    }\n",
              "\n",
              "    [theme=dark] .colab-df-convert {\n",
              "      background-color: #3B4455;\n",
              "      fill: #D2E3FC;\n",
              "    }\n",
              "\n",
              "    [theme=dark] .colab-df-convert:hover {\n",
              "      background-color: #434B5C;\n",
              "      box-shadow: 0px 1px 3px 1px rgba(0, 0, 0, 0.15);\n",
              "      filter: drop-shadow(0px 1px 2px rgba(0, 0, 0, 0.3));\n",
              "      fill: #FFFFFF;\n",
              "    }\n",
              "  </style>\n",
              "\n",
              "      <script>\n",
              "        const buttonEl =\n",
              "          document.querySelector('#df-08b93aa2-a725-4421-907d-422f6a3a719a button.colab-df-convert');\n",
              "        buttonEl.style.display =\n",
              "          google.colab.kernel.accessAllowed ? 'block' : 'none';\n",
              "\n",
              "        async function convertToInteractive(key) {\n",
              "          const element = document.querySelector('#df-08b93aa2-a725-4421-907d-422f6a3a719a');\n",
              "          const dataTable =\n",
              "            await google.colab.kernel.invokeFunction('convertToInteractive',\n",
              "                                                     [key], {});\n",
              "          if (!dataTable) return;\n",
              "\n",
              "          const docLinkHtml = 'Like what you see? Visit the ' +\n",
              "            '<a target=\"_blank\" href=https://colab.research.google.com/notebooks/data_table.ipynb>data table notebook</a>'\n",
              "            + ' to learn more about interactive tables.';\n",
              "          element.innerHTML = '';\n",
              "          dataTable['output_type'] = 'display_data';\n",
              "          await google.colab.output.renderOutput(dataTable, element);\n",
              "          const docLink = document.createElement('div');\n",
              "          docLink.innerHTML = docLinkHtml;\n",
              "          element.appendChild(docLink);\n",
              "        }\n",
              "      </script>\n",
              "    </div>\n",
              "  </div>\n",
              "  "
            ],
            "application/vnd.google.colaboratory.module+javascript": "\n      import \"https://ssl.gstatic.com/colaboratory/data_table/99dac6621f6ae8c4/data_table.js\";\n\n      window.createDataTable({\n        data: [[{\n            'v': 15623,\n            'f': \"15623\",\n        },\n{\n            'v': 15624,\n            'f': \"15624\",\n        },\n{\n            'v': 0,\n            'f': \"0\",\n        },\n\"finally bought the bentonite clay for my face &amp; hair \\u00f0\\u009f\\u0099\\u008c\\u00f0\\u009f\\u008f\\u00be  \"],\n [{\n            'v': 217,\n            'f': \"217\",\n        },\n{\n            'v': 218,\n            'f': \"218\",\n        },\n{\n            'v': 0,\n            'f': \"0\",\n        },\n\"on the way toraya #bus #alamindah #white #music #carrieunderwood   \"],\n [{\n            'v': 5568,\n            'f': \"5568\",\n        },\n{\n            'v': 5569,\n            'f': \"5569\",\n        },\n{\n            'v': 0,\n            'f': \"0\",\n        },\n\"excited for saturday i'm off to the fake festival for my sister bihday, with my sis,her mates and me and my mate, my mom ( )\\u00f0\\u009f\\u0098\\u0081\\u00f0\\u009f\\u0098\\u0081\\u00f0\\u009f\\u0091\\u008c\\u00f0\\u009f\\u008f\\u00bb\\u00f0\\u009f\\u008c\\u00b8\\u00f0\\u009f\\u0098\\u008d\"],\n [{\n            'v': 10381,\n            'f': \"10381\",\n        },\n{\n            'v': 10382,\n            'f': \"10382\",\n        },\n{\n            'v': 0,\n            'f': \"0\",\n        },\n\"  bihday queen #america #love #news #photography #health #fail #wcw #ff #jobs #economy #socialmedia #staup \"],\n [{\n            'v': 9728,\n            'f': \"9728\",\n        },\n{\n            'v': 9729,\n            'f': \"9729\",\n        },\n{\n            'v': 0,\n            'f': \"0\",\n        },\n\". . doggies happy gathering\\u00f3\\u00be\\u0086\\u00b7\\u00f3\\u00be\\u0087\\u0098\\u00f3\\u00be\\u00ac\\u0090 . . #dog #doggie   #gathering #poodle #schnauzer\\u00e2\\u0080\\u00a6  \"],\n [{\n            'v': 29681,\n            'f': \"29681\",\n        },\n{\n            'v': 29682,\n            'f': \"29682\",\n        },\n{\n            'v': 1,\n            'f': \"1\",\n        },\n\"@user #allahsoil not all westerners are islamophobes.    #emiratis #2016in4words \"],\n [{\n            'v': 24840,\n            'f': \"24840\",\n        },\n{\n            'v': 24841,\n            'f': \"24841\",\n        },\n{\n            'v': 1,\n            'f': \"1\",\n        },\n\"@user #trumpusa they call you   #homophobic #misogynist  #jealousy #loser     \\\"when we go up - they go down\\u00e2\\u0080\\u00a6 \"],\n [{\n            'v': 22146,\n            'f': \"22146\",\n        },\n{\n            'v': 22147,\n            'f': \"22147\",\n        },\n{\n            'v': 1,\n            'f': \"1\",\n        },\n\"@user obama has been the most destructive president in history &amp; that is his legend. #isis #iran  #copkiller #syria @user #more\"],\n [{\n            'v': 13440,\n            'f': \"13440\",\n        },\n{\n            'v': 13441,\n            'f': \"13441\",\n        },\n{\n            'v': 1,\n            'f': \"1\",\n        },\n\"why did the #unitednations resolve that #zionism is a form of  \"],\n [{\n            'v': 19589,\n            'f': \"19589\",\n        },\n{\n            'v': 19590,\n            'f': \"19590\",\n        },\n{\n            'v': 1,\n            'f': \"1\",\n        },\n\"this is the type of  trash trump and paladino attract. #dumbfuck \"]],\n        columns: [[\"number\", \"index\"], [\"number\", \"id\"], [\"number\", \"label\"], [\"string\", \"tweet\"]],\n        columnOptions: [{\"width\": \"1px\", \"className\": \"index_column\"}],\n        rowsPerPage: 25,\n        helpUrl: \"https://colab.research.google.com/notebooks/data_table.ipynb\",\n        suppressOutputScrolling: true,\n        minimumWidth: undefined,\n      });\n    "
          },
          "metadata": {},
          "execution_count": 12
        }
      ],
      "source": [
        "# Colab includes an extension that renders pandas dataframes into interactive displays that can be filtered, sorted, and explored dynamically.\n",
        "from google.colab import data_table\n",
        "data_table.enable_dataframe_formatter() \n",
        "\n",
        "# YOUR CODE HERE\n",
        "raw.groupby('label').sample(5)"
      ]
    },
    {
      "cell_type": "markdown",
      "metadata": {
        "id": "xTX1dJ79qHSb"
      },
      "source": [
        "5. The tweets are in English and all words should be already in lowercase. \n",
        "Now calculate the number of characters in each tweet and assign the values to a new column `len_tweet` in `raw`. "
      ]
    },
    {
      "cell_type": "code",
      "execution_count": 19,
      "metadata": {
        "id": "1ZpPnJ7hzoUY"
      },
      "outputs": [],
      "source": [
        "# YOUR CODE HERE\n",
        "raw['len_tweets'] = raw['tweet'].str.len()\n"
      ]
    },
    {
      "cell_type": "markdown",
      "metadata": {
        "id": "Cs6Xn-YtqHSc"
      },
      "source": [
        "6. What are the summary statistics of `len_tweet` for each label? \n",
        "Hint: use `groupby` and `describe`. "
      ]
    },
    {
      "cell_type": "code",
      "execution_count": 20,
      "metadata": {
        "colab": {
          "base_uri": "https://localhost:8080/"
        },
        "id": "ClwQM1Zezwq6",
        "outputId": "8ebae3f6-95a3-470c-c729-d5f7f72fe8f1"
      },
      "outputs": [
        {
          "output_type": "execute_result",
          "data": {
            "text/plain": [
              "count    31962.0\n",
              "mean        84.7\n",
              "std         29.5\n",
              "min         11.0\n",
              "25%         63.0\n",
              "50%         88.0\n",
              "75%        108.0\n",
              "max        274.0\n",
              "Name: len_tweets, dtype: float64"
            ]
          },
          "metadata": {},
          "execution_count": 20
        }
      ],
      "source": [
        "pd.set_option(\"display.precision\", 1)\n",
        "\n",
        "# YOUR CODE HERE\n",
        "raw['len_tweets'].describe()"
      ]
    },
    {
      "cell_type": "code",
      "source": [
        "pd.set_option(\"display.precision\", 1)\n",
        "\n",
        "# YOUR CODE HERE\n",
        "#display summary statistics for len_tweets grouped by label\n",
        "raw.groupby('label')['len_tweets'].describe()"
      ],
      "metadata": {
        "colab": {
          "base_uri": "https://localhost:8080/",
          "height": 130
        },
        "id": "q6W-dMqx1j3t",
        "outputId": "554dd5cc-61f9-44a9-b14d-f209152e217e"
      },
      "execution_count": 21,
      "outputs": [
        {
          "output_type": "execute_result",
          "data": {
            "text/plain": [
              "         count  mean   std   min   25%   50%    75%    max\n",
              "label                                                     \n",
              "0      29720.0  84.3  29.6  11.0  62.0  88.0  107.0  274.0\n",
              "1       2242.0  90.2  27.4  12.0  69.0  96.0  111.0  152.0"
            ],
            "text/html": [
              "\n",
              "  <div id=\"df-468bd289-fa70-4657-b8b5-9be72325e766\">\n",
              "    <div class=\"colab-df-container\">\n",
              "      <div>\n",
              "<style scoped>\n",
              "    .dataframe tbody tr th:only-of-type {\n",
              "        vertical-align: middle;\n",
              "    }\n",
              "\n",
              "    .dataframe tbody tr th {\n",
              "        vertical-align: top;\n",
              "    }\n",
              "\n",
              "    .dataframe thead th {\n",
              "        text-align: right;\n",
              "    }\n",
              "</style>\n",
              "<table border=\"1\" class=\"dataframe\">\n",
              "  <thead>\n",
              "    <tr style=\"text-align: right;\">\n",
              "      <th></th>\n",
              "      <th>count</th>\n",
              "      <th>mean</th>\n",
              "      <th>std</th>\n",
              "      <th>min</th>\n",
              "      <th>25%</th>\n",
              "      <th>50%</th>\n",
              "      <th>75%</th>\n",
              "      <th>max</th>\n",
              "    </tr>\n",
              "    <tr>\n",
              "      <th>label</th>\n",
              "      <th></th>\n",
              "      <th></th>\n",
              "      <th></th>\n",
              "      <th></th>\n",
              "      <th></th>\n",
              "      <th></th>\n",
              "      <th></th>\n",
              "      <th></th>\n",
              "    </tr>\n",
              "  </thead>\n",
              "  <tbody>\n",
              "    <tr>\n",
              "      <th>0</th>\n",
              "      <td>29720.0</td>\n",
              "      <td>84.3</td>\n",
              "      <td>29.6</td>\n",
              "      <td>11.0</td>\n",
              "      <td>62.0</td>\n",
              "      <td>88.0</td>\n",
              "      <td>107.0</td>\n",
              "      <td>274.0</td>\n",
              "    </tr>\n",
              "    <tr>\n",
              "      <th>1</th>\n",
              "      <td>2242.0</td>\n",
              "      <td>90.2</td>\n",
              "      <td>27.4</td>\n",
              "      <td>12.0</td>\n",
              "      <td>69.0</td>\n",
              "      <td>96.0</td>\n",
              "      <td>111.0</td>\n",
              "      <td>152.0</td>\n",
              "    </tr>\n",
              "  </tbody>\n",
              "</table>\n",
              "</div>\n",
              "      <button class=\"colab-df-convert\" onclick=\"convertToInteractive('df-468bd289-fa70-4657-b8b5-9be72325e766')\"\n",
              "              title=\"Convert this dataframe to an interactive table.\"\n",
              "              style=\"display:none;\">\n",
              "        \n",
              "  <svg xmlns=\"http://www.w3.org/2000/svg\" height=\"24px\"viewBox=\"0 0 24 24\"\n",
              "       width=\"24px\">\n",
              "    <path d=\"M0 0h24v24H0V0z\" fill=\"none\"/>\n",
              "    <path d=\"M18.56 5.44l.94 2.06.94-2.06 2.06-.94-2.06-.94-.94-2.06-.94 2.06-2.06.94zm-11 1L8.5 8.5l.94-2.06 2.06-.94-2.06-.94L8.5 2.5l-.94 2.06-2.06.94zm10 10l.94 2.06.94-2.06 2.06-.94-2.06-.94-.94-2.06-.94 2.06-2.06.94z\"/><path d=\"M17.41 7.96l-1.37-1.37c-.4-.4-.92-.59-1.43-.59-.52 0-1.04.2-1.43.59L10.3 9.45l-7.72 7.72c-.78.78-.78 2.05 0 2.83L4 21.41c.39.39.9.59 1.41.59.51 0 1.02-.2 1.41-.59l7.78-7.78 2.81-2.81c.8-.78.8-2.07 0-2.86zM5.41 20L4 18.59l7.72-7.72 1.47 1.35L5.41 20z\"/>\n",
              "  </svg>\n",
              "      </button>\n",
              "      \n",
              "  <style>\n",
              "    .colab-df-container {\n",
              "      display:flex;\n",
              "      flex-wrap:wrap;\n",
              "      gap: 12px;\n",
              "    }\n",
              "\n",
              "    .colab-df-convert {\n",
              "      background-color: #E8F0FE;\n",
              "      border: none;\n",
              "      border-radius: 50%;\n",
              "      cursor: pointer;\n",
              "      display: none;\n",
              "      fill: #1967D2;\n",
              "      height: 32px;\n",
              "      padding: 0 0 0 0;\n",
              "      width: 32px;\n",
              "    }\n",
              "\n",
              "    .colab-df-convert:hover {\n",
              "      background-color: #E2EBFA;\n",
              "      box-shadow: 0px 1px 2px rgba(60, 64, 67, 0.3), 0px 1px 3px 1px rgba(60, 64, 67, 0.15);\n",
              "      fill: #174EA6;\n",
              "    }\n",
              "\n",
              "    [theme=dark] .colab-df-convert {\n",
              "      background-color: #3B4455;\n",
              "      fill: #D2E3FC;\n",
              "    }\n",
              "\n",
              "    [theme=dark] .colab-df-convert:hover {\n",
              "      background-color: #434B5C;\n",
              "      box-shadow: 0px 1px 3px 1px rgba(0, 0, 0, 0.15);\n",
              "      filter: drop-shadow(0px 1px 2px rgba(0, 0, 0, 0.3));\n",
              "      fill: #FFFFFF;\n",
              "    }\n",
              "  </style>\n",
              "\n",
              "      <script>\n",
              "        const buttonEl =\n",
              "          document.querySelector('#df-468bd289-fa70-4657-b8b5-9be72325e766 button.colab-df-convert');\n",
              "        buttonEl.style.display =\n",
              "          google.colab.kernel.accessAllowed ? 'block' : 'none';\n",
              "\n",
              "        async function convertToInteractive(key) {\n",
              "          const element = document.querySelector('#df-468bd289-fa70-4657-b8b5-9be72325e766');\n",
              "          const dataTable =\n",
              "            await google.colab.kernel.invokeFunction('convertToInteractive',\n",
              "                                                     [key], {});\n",
              "          if (!dataTable) return;\n",
              "\n",
              "          const docLinkHtml = 'Like what you see? Visit the ' +\n",
              "            '<a target=\"_blank\" href=https://colab.research.google.com/notebooks/data_table.ipynb>data table notebook</a>'\n",
              "            + ' to learn more about interactive tables.';\n",
              "          element.innerHTML = '';\n",
              "          dataTable['output_type'] = 'display_data';\n",
              "          await google.colab.output.renderOutput(dataTable, element);\n",
              "          const docLink = document.createElement('div');\n",
              "          docLink.innerHTML = docLinkHtml;\n",
              "          element.appendChild(docLink);\n",
              "        }\n",
              "      </script>\n",
              "    </div>\n",
              "  </div>\n",
              "  "
            ],
            "application/vnd.google.colaboratory.module+javascript": "\n      import \"https://ssl.gstatic.com/colaboratory/data_table/99dac6621f6ae8c4/data_table.js\";\n\n      window.createDataTable({\n        data: [[{\n            'v': 0,\n            'f': \"0\",\n        },\n{\n            'v': 29720.0,\n            'f': \"29720.0\",\n        },\n{\n            'v': 84.32863391655451,\n            'f': \"84.32863391655451\",\n        },\n{\n            'v': 29.566483817431827,\n            'f': \"29.566483817431827\",\n        },\n{\n            'v': 11.0,\n            'f': \"11.0\",\n        },\n{\n            'v': 62.0,\n            'f': \"62.0\",\n        },\n{\n            'v': 88.0,\n            'f': \"88.0\",\n        },\n{\n            'v': 107.0,\n            'f': \"107.0\",\n        },\n{\n            'v': 274.0,\n            'f': \"274.0\",\n        }],\n [{\n            'v': 1,\n            'f': \"1\",\n        },\n{\n            'v': 2242.0,\n            'f': \"2242.0\",\n        },\n{\n            'v': 90.18777876895629,\n            'f': \"90.18777876895629\",\n        },\n{\n            'v': 27.375501683643677,\n            'f': \"27.375501683643677\",\n        },\n{\n            'v': 12.0,\n            'f': \"12.0\",\n        },\n{\n            'v': 69.0,\n            'f': \"69.0\",\n        },\n{\n            'v': 96.0,\n            'f': \"96.0\",\n        },\n{\n            'v': 111.0,\n            'f': \"111.0\",\n        },\n{\n            'v': 152.0,\n            'f': \"152.0\",\n        }]],\n        columns: [[\"number\", \"label\"], [\"number\", \"count\"], [\"number\", \"mean\"], [\"number\", \"std\"], [\"number\", \"min\"], [\"number\", \"25%\"], [\"number\", \"50%\"], [\"number\", \"75%\"], [\"number\", \"max\"]],\n        columnOptions: [{\"width\": \"1px\", \"className\": \"index_column\"}],\n        rowsPerPage: 25,\n        helpUrl: \"https://colab.research.google.com/notebooks/data_table.ipynb\",\n        suppressOutputScrolling: true,\n        minimumWidth: undefined,\n      });\n    "
          },
          "metadata": {},
          "execution_count": 21
        }
      ]
    },
    {
      "cell_type": "markdown",
      "metadata": {
        "id": "PJpa1yzaqHSc"
      },
      "source": [
        "Note we have an imbalanced dataset: the ratio of non-hate speech to hate speech is roughly 13:1. "
      ]
    },
    {
      "cell_type": "markdown",
      "metadata": {
        "id": "e-1PGVKaqHSc"
      },
      "source": [
        "7. Clean the tweets. \n",
        "\n",
        "    We use `re` to perform basic text manipulations. \n",
        "    Specically, remove anonymized user handle, remove numbers and special characters except hashtags."
      ]
    },
    {
      "cell_type": "code",
      "execution_count": 16,
      "metadata": {
        "id": "sZ5dN1CEz1Y4"
      },
      "outputs": [],
      "source": [
        "import re"
      ]
    },
    {
      "cell_type": "markdown",
      "metadata": {
        "id": "l_5sDDyHqHSd"
      },
      "source": [
        "8. Remove user handles from the text in `tweet`, or anything directly following the symbols `@`, and save the resulting tweets to a new column `tidy_tweet` in `raw`. \n",
        "    \n",
        "    Hint: you can use `re.sub` on individual text and [`apply`](https://pandas.pydata.org/docs/reference/api/pandas.DataFrame.apply.html) a simple lambda function for the series `raw['tweet']`."
      ]
    },
    {
      "cell_type": "code",
      "execution_count": 22,
      "metadata": {
        "colab": {
          "base_uri": "https://localhost:8080/",
          "height": 227
        },
        "id": "F5fQIuPm0h9A",
        "outputId": "0af6a41a-2f36-45dd-cbec-27a2e587080d"
      },
      "outputs": [
        {
          "output_type": "stream",
          "name": "stderr",
          "text": [
            "<ipython-input-22-a5fd00b9f98a>:1: FutureWarning: The default value of regex will change from True to False in a future version.\n",
            "  raw['tidy_tweet'] = raw['tweet'].str.replace('@[\\w]+','')\n"
          ]
        },
        {
          "output_type": "execute_result",
          "data": {
            "text/plain": [
              "          id  label                                              tweet  \\\n",
              "790      791      1  @user and you keep telling that only aryans ar...   \n",
              "21928  21929      0                           @user what makes you  ?    \n",
              "25642  25643      0   â #nzd/usd extends rbnz-led rally, hits fre...   \n",
              "20436  20437      0  i'm on a mission to ride all of the animals!  ...   \n",
              "22552  22553      0  the color of a human skin matters a lot to the...   \n",
              "\n",
              "       len_tweets                                         tidy_tweet  \n",
              "790           109   and you keep telling that only aryans are all...  \n",
              "21928          25                                 what makes you  ?   \n",
              "25642         101   â #nzd/usd extends rbnz-led rally, hits fre...  \n",
              "20436          91  i'm on a mission to ride all of the animals!  ...  \n",
              "22552          88  the color of a human skin matters a lot to the...  "
            ],
            "text/html": [
              "\n",
              "  <div id=\"df-4f2b8e57-10c8-410a-8c9a-b9b26f4394cf\">\n",
              "    <div class=\"colab-df-container\">\n",
              "      <div>\n",
              "<style scoped>\n",
              "    .dataframe tbody tr th:only-of-type {\n",
              "        vertical-align: middle;\n",
              "    }\n",
              "\n",
              "    .dataframe tbody tr th {\n",
              "        vertical-align: top;\n",
              "    }\n",
              "\n",
              "    .dataframe thead th {\n",
              "        text-align: right;\n",
              "    }\n",
              "</style>\n",
              "<table border=\"1\" class=\"dataframe\">\n",
              "  <thead>\n",
              "    <tr style=\"text-align: right;\">\n",
              "      <th></th>\n",
              "      <th>id</th>\n",
              "      <th>label</th>\n",
              "      <th>tweet</th>\n",
              "      <th>len_tweets</th>\n",
              "      <th>tidy_tweet</th>\n",
              "    </tr>\n",
              "  </thead>\n",
              "  <tbody>\n",
              "    <tr>\n",
              "      <th>790</th>\n",
              "      <td>791</td>\n",
              "      <td>1</td>\n",
              "      <td>@user and you keep telling that only aryans ar...</td>\n",
              "      <td>109</td>\n",
              "      <td>and you keep telling that only aryans are all...</td>\n",
              "    </tr>\n",
              "    <tr>\n",
              "      <th>21928</th>\n",
              "      <td>21929</td>\n",
              "      <td>0</td>\n",
              "      <td>@user what makes you  ?</td>\n",
              "      <td>25</td>\n",
              "      <td>what makes you  ?</td>\n",
              "    </tr>\n",
              "    <tr>\n",
              "      <th>25642</th>\n",
              "      <td>25643</td>\n",
              "      <td>0</td>\n",
              "      <td>â #nzd/usd extends rbnz-led rally, hits fre...</td>\n",
              "      <td>101</td>\n",
              "      <td>â #nzd/usd extends rbnz-led rally, hits fre...</td>\n",
              "    </tr>\n",
              "    <tr>\n",
              "      <th>20436</th>\n",
              "      <td>20437</td>\n",
              "      <td>0</td>\n",
              "      <td>i'm on a mission to ride all of the animals!  ...</td>\n",
              "      <td>91</td>\n",
              "      <td>i'm on a mission to ride all of the animals!  ...</td>\n",
              "    </tr>\n",
              "    <tr>\n",
              "      <th>22552</th>\n",
              "      <td>22553</td>\n",
              "      <td>0</td>\n",
              "      <td>the color of a human skin matters a lot to the...</td>\n",
              "      <td>88</td>\n",
              "      <td>the color of a human skin matters a lot to the...</td>\n",
              "    </tr>\n",
              "  </tbody>\n",
              "</table>\n",
              "</div>\n",
              "      <button class=\"colab-df-convert\" onclick=\"convertToInteractive('df-4f2b8e57-10c8-410a-8c9a-b9b26f4394cf')\"\n",
              "              title=\"Convert this dataframe to an interactive table.\"\n",
              "              style=\"display:none;\">\n",
              "        \n",
              "  <svg xmlns=\"http://www.w3.org/2000/svg\" height=\"24px\"viewBox=\"0 0 24 24\"\n",
              "       width=\"24px\">\n",
              "    <path d=\"M0 0h24v24H0V0z\" fill=\"none\"/>\n",
              "    <path d=\"M18.56 5.44l.94 2.06.94-2.06 2.06-.94-2.06-.94-.94-2.06-.94 2.06-2.06.94zm-11 1L8.5 8.5l.94-2.06 2.06-.94-2.06-.94L8.5 2.5l-.94 2.06-2.06.94zm10 10l.94 2.06.94-2.06 2.06-.94-2.06-.94-.94-2.06-.94 2.06-2.06.94z\"/><path d=\"M17.41 7.96l-1.37-1.37c-.4-.4-.92-.59-1.43-.59-.52 0-1.04.2-1.43.59L10.3 9.45l-7.72 7.72c-.78.78-.78 2.05 0 2.83L4 21.41c.39.39.9.59 1.41.59.51 0 1.02-.2 1.41-.59l7.78-7.78 2.81-2.81c.8-.78.8-2.07 0-2.86zM5.41 20L4 18.59l7.72-7.72 1.47 1.35L5.41 20z\"/>\n",
              "  </svg>\n",
              "      </button>\n",
              "      \n",
              "  <style>\n",
              "    .colab-df-container {\n",
              "      display:flex;\n",
              "      flex-wrap:wrap;\n",
              "      gap: 12px;\n",
              "    }\n",
              "\n",
              "    .colab-df-convert {\n",
              "      background-color: #E8F0FE;\n",
              "      border: none;\n",
              "      border-radius: 50%;\n",
              "      cursor: pointer;\n",
              "      display: none;\n",
              "      fill: #1967D2;\n",
              "      height: 32px;\n",
              "      padding: 0 0 0 0;\n",
              "      width: 32px;\n",
              "    }\n",
              "\n",
              "    .colab-df-convert:hover {\n",
              "      background-color: #E2EBFA;\n",
              "      box-shadow: 0px 1px 2px rgba(60, 64, 67, 0.3), 0px 1px 3px 1px rgba(60, 64, 67, 0.15);\n",
              "      fill: #174EA6;\n",
              "    }\n",
              "\n",
              "    [theme=dark] .colab-df-convert {\n",
              "      background-color: #3B4455;\n",
              "      fill: #D2E3FC;\n",
              "    }\n",
              "\n",
              "    [theme=dark] .colab-df-convert:hover {\n",
              "      background-color: #434B5C;\n",
              "      box-shadow: 0px 1px 3px 1px rgba(0, 0, 0, 0.15);\n",
              "      filter: drop-shadow(0px 1px 2px rgba(0, 0, 0, 0.3));\n",
              "      fill: #FFFFFF;\n",
              "    }\n",
              "  </style>\n",
              "\n",
              "      <script>\n",
              "        const buttonEl =\n",
              "          document.querySelector('#df-4f2b8e57-10c8-410a-8c9a-b9b26f4394cf button.colab-df-convert');\n",
              "        buttonEl.style.display =\n",
              "          google.colab.kernel.accessAllowed ? 'block' : 'none';\n",
              "\n",
              "        async function convertToInteractive(key) {\n",
              "          const element = document.querySelector('#df-4f2b8e57-10c8-410a-8c9a-b9b26f4394cf');\n",
              "          const dataTable =\n",
              "            await google.colab.kernel.invokeFunction('convertToInteractive',\n",
              "                                                     [key], {});\n",
              "          if (!dataTable) return;\n",
              "\n",
              "          const docLinkHtml = 'Like what you see? Visit the ' +\n",
              "            '<a target=\"_blank\" href=https://colab.research.google.com/notebooks/data_table.ipynb>data table notebook</a>'\n",
              "            + ' to learn more about interactive tables.';\n",
              "          element.innerHTML = '';\n",
              "          dataTable['output_type'] = 'display_data';\n",
              "          await google.colab.output.renderOutput(dataTable, element);\n",
              "          const docLink = document.createElement('div');\n",
              "          docLink.innerHTML = docLinkHtml;\n",
              "          element.appendChild(docLink);\n",
              "        }\n",
              "      </script>\n",
              "    </div>\n",
              "  </div>\n",
              "  "
            ],
            "application/vnd.google.colaboratory.module+javascript": "\n      import \"https://ssl.gstatic.com/colaboratory/data_table/99dac6621f6ae8c4/data_table.js\";\n\n      window.createDataTable({\n        data: [[{\n            'v': 790,\n            'f': \"790\",\n        },\n{\n            'v': 791,\n            'f': \"791\",\n        },\n{\n            'v': 1,\n            'f': \"1\",\n        },\n\"@user and you keep telling that only aryans are allowed to rape women! you're just a  troll! #eod @user @user\",\n{\n            'v': 109,\n            'f': \"109\",\n        },\n\" and you keep telling that only aryans are allowed to rape women! you're just a  troll! #eod  \"],\n [{\n            'v': 21928,\n            'f': \"21928\",\n        },\n{\n            'v': 21929,\n            'f': \"21929\",\n        },\n{\n            'v': 0,\n            'f': \"0\",\n        },\n\" @user what makes you  ? \",\n{\n            'v': 25,\n            'f': \"25\",\n        },\n\"  what makes you  ? \"],\n [{\n            'v': 25642,\n            'f': \"25642\",\n        },\n{\n            'v': 25643,\n            'f': \"25643\",\n        },\n{\n            'v': 0,\n            'f': \"0\",\n        },\n\" \\u00e2\\u0086\\u009d #nzd/usd extends rbnz-led rally, hits fresh 1-year high near 0.7150   #blog #silver #gold #forex\",\n{\n            'v': 101,\n            'f': \"101\",\n        },\n\" \\u00e2\\u0086\\u009d #nzd/usd extends rbnz-led rally, hits fresh 1-year high near 0.7150   #blog #silver #gold #forex\"],\n [{\n            'v': 20436,\n            'f': \"20436\",\n        },\n{\n            'v': 20437,\n            'f': \"20437\",\n        },\n{\n            'v': 0,\n            'f': \"0\",\n        },\n\"i'm on a mission to ride all of the animals!   #teamchanlv #vegas #lasvegas #funtimes  \\u00e2\\u0080\\u00a6 \",\n{\n            'v': 91,\n            'f': \"91\",\n        },\n\"i'm on a mission to ride all of the animals!   #teamchanlv #vegas #lasvegas #funtimes  \\u00e2\\u0080\\u00a6 \"],\n [{\n            'v': 22552,\n            'f': \"22552\",\n        },\n{\n            'v': 22553,\n            'f': \"22553\",\n        },\n{\n            'v': 0,\n            'f': \"0\",\n        },\n\"the color of a human skin matters a lot to the system when it comes to judgement call.  \",\n{\n            'v': 88,\n            'f': \"88\",\n        },\n\"the color of a human skin matters a lot to the system when it comes to judgement call.  \"]],\n        columns: [[\"number\", \"index\"], [\"number\", \"id\"], [\"number\", \"label\"], [\"string\", \"tweet\"], [\"number\", \"len_tweets\"], [\"string\", \"tidy_tweet\"]],\n        columnOptions: [{\"width\": \"1px\", \"className\": \"index_column\"}],\n        rowsPerPage: 25,\n        helpUrl: \"https://colab.research.google.com/notebooks/data_table.ipynb\",\n        suppressOutputScrolling: true,\n        minimumWidth: undefined,\n      });\n    "
          },
          "metadata": {},
          "execution_count": 22
        }
      ],
      "source": [
        "raw['tidy_tweet'] = raw['tweet'].str.replace('@[\\w]+','')\n",
        "raw.sample(5, random_state=203)"
      ]
    },
    {
      "cell_type": "markdown",
      "metadata": {
        "id": "45_NFIzUqHSd"
      },
      "source": [
        "9. Remove non-alphabetic characters yet keep symbols `#` from `tidy_tweet` and save the result in `tidy_tweet`. \n",
        "In other words, keep all 26 letters and `#`.\n",
        "\n",
        "    Note: in some applications, punctuations, emojis, or whether the word is in all caps can be of use. \n",
        "    You shall decide whether to extract such features for the application and perform error analysis to gain insight. "
      ]
    },
    {
      "cell_type": "code",
      "execution_count": 23,
      "metadata": {
        "colab": {
          "base_uri": "https://localhost:8080/",
          "height": 227
        },
        "id": "OiPc6R6q0rtH",
        "outputId": "94e20bf6-c252-4742-ad74-791c6d780b1a"
      },
      "outputs": [
        {
          "output_type": "stream",
          "name": "stderr",
          "text": [
            "<ipython-input-23-cd875b6e70e7>:1: FutureWarning: The default value of regex will change from True to False in a future version.\n",
            "  raw['tidy_tweet'] = raw['tidy_tweet'].str.replace('[^a-zA-Z0-9\\s#]','')\n"
          ]
        },
        {
          "output_type": "execute_result",
          "data": {
            "text/plain": [
              "          id  label                                              tweet  \\\n",
              "790      791      1  @user and you keep telling that only aryans ar...   \n",
              "21928  21929      0                           @user what makes you  ?    \n",
              "25642  25643      0   â #nzd/usd extends rbnz-led rally, hits fre...   \n",
              "20436  20437      0  i'm on a mission to ride all of the animals!  ...   \n",
              "22552  22553      0  the color of a human skin matters a lot to the...   \n",
              "\n",
              "       len_tweets                                         tidy_tweet  \n",
              "790           109   and you keep telling that only aryans are all...  \n",
              "21928          25                                  what makes you     \n",
              "25642         101    #nzdusd extends rbnzled rally hits fresh 1ye...  \n",
              "20436          91  im on a mission to ride all of the animals   #...  \n",
              "22552          88  the color of a human skin matters a lot to the...  "
            ],
            "text/html": [
              "\n",
              "  <div id=\"df-01a23dd0-8f54-4fbd-b61b-98db6f00488b\">\n",
              "    <div class=\"colab-df-container\">\n",
              "      <div>\n",
              "<style scoped>\n",
              "    .dataframe tbody tr th:only-of-type {\n",
              "        vertical-align: middle;\n",
              "    }\n",
              "\n",
              "    .dataframe tbody tr th {\n",
              "        vertical-align: top;\n",
              "    }\n",
              "\n",
              "    .dataframe thead th {\n",
              "        text-align: right;\n",
              "    }\n",
              "</style>\n",
              "<table border=\"1\" class=\"dataframe\">\n",
              "  <thead>\n",
              "    <tr style=\"text-align: right;\">\n",
              "      <th></th>\n",
              "      <th>id</th>\n",
              "      <th>label</th>\n",
              "      <th>tweet</th>\n",
              "      <th>len_tweets</th>\n",
              "      <th>tidy_tweet</th>\n",
              "    </tr>\n",
              "  </thead>\n",
              "  <tbody>\n",
              "    <tr>\n",
              "      <th>790</th>\n",
              "      <td>791</td>\n",
              "      <td>1</td>\n",
              "      <td>@user and you keep telling that only aryans ar...</td>\n",
              "      <td>109</td>\n",
              "      <td>and you keep telling that only aryans are all...</td>\n",
              "    </tr>\n",
              "    <tr>\n",
              "      <th>21928</th>\n",
              "      <td>21929</td>\n",
              "      <td>0</td>\n",
              "      <td>@user what makes you  ?</td>\n",
              "      <td>25</td>\n",
              "      <td>what makes you</td>\n",
              "    </tr>\n",
              "    <tr>\n",
              "      <th>25642</th>\n",
              "      <td>25643</td>\n",
              "      <td>0</td>\n",
              "      <td>â #nzd/usd extends rbnz-led rally, hits fre...</td>\n",
              "      <td>101</td>\n",
              "      <td>#nzdusd extends rbnzled rally hits fresh 1ye...</td>\n",
              "    </tr>\n",
              "    <tr>\n",
              "      <th>20436</th>\n",
              "      <td>20437</td>\n",
              "      <td>0</td>\n",
              "      <td>i'm on a mission to ride all of the animals!  ...</td>\n",
              "      <td>91</td>\n",
              "      <td>im on a mission to ride all of the animals   #...</td>\n",
              "    </tr>\n",
              "    <tr>\n",
              "      <th>22552</th>\n",
              "      <td>22553</td>\n",
              "      <td>0</td>\n",
              "      <td>the color of a human skin matters a lot to the...</td>\n",
              "      <td>88</td>\n",
              "      <td>the color of a human skin matters a lot to the...</td>\n",
              "    </tr>\n",
              "  </tbody>\n",
              "</table>\n",
              "</div>\n",
              "      <button class=\"colab-df-convert\" onclick=\"convertToInteractive('df-01a23dd0-8f54-4fbd-b61b-98db6f00488b')\"\n",
              "              title=\"Convert this dataframe to an interactive table.\"\n",
              "              style=\"display:none;\">\n",
              "        \n",
              "  <svg xmlns=\"http://www.w3.org/2000/svg\" height=\"24px\"viewBox=\"0 0 24 24\"\n",
              "       width=\"24px\">\n",
              "    <path d=\"M0 0h24v24H0V0z\" fill=\"none\"/>\n",
              "    <path d=\"M18.56 5.44l.94 2.06.94-2.06 2.06-.94-2.06-.94-.94-2.06-.94 2.06-2.06.94zm-11 1L8.5 8.5l.94-2.06 2.06-.94-2.06-.94L8.5 2.5l-.94 2.06-2.06.94zm10 10l.94 2.06.94-2.06 2.06-.94-2.06-.94-.94-2.06-.94 2.06-2.06.94z\"/><path d=\"M17.41 7.96l-1.37-1.37c-.4-.4-.92-.59-1.43-.59-.52 0-1.04.2-1.43.59L10.3 9.45l-7.72 7.72c-.78.78-.78 2.05 0 2.83L4 21.41c.39.39.9.59 1.41.59.51 0 1.02-.2 1.41-.59l7.78-7.78 2.81-2.81c.8-.78.8-2.07 0-2.86zM5.41 20L4 18.59l7.72-7.72 1.47 1.35L5.41 20z\"/>\n",
              "  </svg>\n",
              "      </button>\n",
              "      \n",
              "  <style>\n",
              "    .colab-df-container {\n",
              "      display:flex;\n",
              "      flex-wrap:wrap;\n",
              "      gap: 12px;\n",
              "    }\n",
              "\n",
              "    .colab-df-convert {\n",
              "      background-color: #E8F0FE;\n",
              "      border: none;\n",
              "      border-radius: 50%;\n",
              "      cursor: pointer;\n",
              "      display: none;\n",
              "      fill: #1967D2;\n",
              "      height: 32px;\n",
              "      padding: 0 0 0 0;\n",
              "      width: 32px;\n",
              "    }\n",
              "\n",
              "    .colab-df-convert:hover {\n",
              "      background-color: #E2EBFA;\n",
              "      box-shadow: 0px 1px 2px rgba(60, 64, 67, 0.3), 0px 1px 3px 1px rgba(60, 64, 67, 0.15);\n",
              "      fill: #174EA6;\n",
              "    }\n",
              "\n",
              "    [theme=dark] .colab-df-convert {\n",
              "      background-color: #3B4455;\n",
              "      fill: #D2E3FC;\n",
              "    }\n",
              "\n",
              "    [theme=dark] .colab-df-convert:hover {\n",
              "      background-color: #434B5C;\n",
              "      box-shadow: 0px 1px 3px 1px rgba(0, 0, 0, 0.15);\n",
              "      filter: drop-shadow(0px 1px 2px rgba(0, 0, 0, 0.3));\n",
              "      fill: #FFFFFF;\n",
              "    }\n",
              "  </style>\n",
              "\n",
              "      <script>\n",
              "        const buttonEl =\n",
              "          document.querySelector('#df-01a23dd0-8f54-4fbd-b61b-98db6f00488b button.colab-df-convert');\n",
              "        buttonEl.style.display =\n",
              "          google.colab.kernel.accessAllowed ? 'block' : 'none';\n",
              "\n",
              "        async function convertToInteractive(key) {\n",
              "          const element = document.querySelector('#df-01a23dd0-8f54-4fbd-b61b-98db6f00488b');\n",
              "          const dataTable =\n",
              "            await google.colab.kernel.invokeFunction('convertToInteractive',\n",
              "                                                     [key], {});\n",
              "          if (!dataTable) return;\n",
              "\n",
              "          const docLinkHtml = 'Like what you see? Visit the ' +\n",
              "            '<a target=\"_blank\" href=https://colab.research.google.com/notebooks/data_table.ipynb>data table notebook</a>'\n",
              "            + ' to learn more about interactive tables.';\n",
              "          element.innerHTML = '';\n",
              "          dataTable['output_type'] = 'display_data';\n",
              "          await google.colab.output.renderOutput(dataTable, element);\n",
              "          const docLink = document.createElement('div');\n",
              "          docLink.innerHTML = docLinkHtml;\n",
              "          element.appendChild(docLink);\n",
              "        }\n",
              "      </script>\n",
              "    </div>\n",
              "  </div>\n",
              "  "
            ],
            "application/vnd.google.colaboratory.module+javascript": "\n      import \"https://ssl.gstatic.com/colaboratory/data_table/99dac6621f6ae8c4/data_table.js\";\n\n      window.createDataTable({\n        data: [[{\n            'v': 790,\n            'f': \"790\",\n        },\n{\n            'v': 791,\n            'f': \"791\",\n        },\n{\n            'v': 1,\n            'f': \"1\",\n        },\n\"@user and you keep telling that only aryans are allowed to rape women! you're just a  troll! #eod @user @user\",\n{\n            'v': 109,\n            'f': \"109\",\n        },\n\" and you keep telling that only aryans are allowed to rape women youre just a  troll #eod  \"],\n [{\n            'v': 21928,\n            'f': \"21928\",\n        },\n{\n            'v': 21929,\n            'f': \"21929\",\n        },\n{\n            'v': 0,\n            'f': \"0\",\n        },\n\" @user what makes you  ? \",\n{\n            'v': 25,\n            'f': \"25\",\n        },\n\"  what makes you   \"],\n [{\n            'v': 25642,\n            'f': \"25642\",\n        },\n{\n            'v': 25643,\n            'f': \"25643\",\n        },\n{\n            'v': 0,\n            'f': \"0\",\n        },\n\" \\u00e2\\u0086\\u009d #nzd/usd extends rbnz-led rally, hits fresh 1-year high near 0.7150   #blog #silver #gold #forex\",\n{\n            'v': 101,\n            'f': \"101\",\n        },\n\"  #nzdusd extends rbnzled rally hits fresh 1year high near 07150   #blog #silver #gold #forex\"],\n [{\n            'v': 20436,\n            'f': \"20436\",\n        },\n{\n            'v': 20437,\n            'f': \"20437\",\n        },\n{\n            'v': 0,\n            'f': \"0\",\n        },\n\"i'm on a mission to ride all of the animals!   #teamchanlv #vegas #lasvegas #funtimes  \\u00e2\\u0080\\u00a6 \",\n{\n            'v': 91,\n            'f': \"91\",\n        },\n\"im on a mission to ride all of the animals   #teamchanlv #vegas #lasvegas #funtimes   \"],\n [{\n            'v': 22552,\n            'f': \"22552\",\n        },\n{\n            'v': 22553,\n            'f': \"22553\",\n        },\n{\n            'v': 0,\n            'f': \"0\",\n        },\n\"the color of a human skin matters a lot to the system when it comes to judgement call.  \",\n{\n            'v': 88,\n            'f': \"88\",\n        },\n\"the color of a human skin matters a lot to the system when it comes to judgement call  \"]],\n        columns: [[\"number\", \"index\"], [\"number\", \"id\"], [\"number\", \"label\"], [\"string\", \"tweet\"], [\"number\", \"len_tweets\"], [\"string\", \"tidy_tweet\"]],\n        columnOptions: [{\"width\": \"1px\", \"className\": \"index_column\"}],\n        rowsPerPage: 25,\n        helpUrl: \"https://colab.research.google.com/notebooks/data_table.ipynb\",\n        suppressOutputScrolling: true,\n        minimumWidth: undefined,\n      });\n    "
          },
          "metadata": {},
          "execution_count": 23
        }
      ],
      "source": [
        "raw['tidy_tweet'] = raw['tidy_tweet'].str.replace('[^a-zA-Z0-9\\s#]','')\n",
        "raw.sample(5, random_state=203)"
      ]
    },
    {
      "cell_type": "markdown",
      "metadata": {
        "id": "UcClbClQIrRV"
      },
      "source": [
        "10. Remove words that is shorter than 4 characters from the processed tweets.\n",
        "\n",
        "    For example, \n",
        "      \n",
        "    `i m on a mission to ride all of the animals #teamchanlv #vegas #lasvegas #funtimes`\n",
        "      \n",
        "    will be reduced to \n",
        "      \n",
        "    `mission ride animals #teamchanlv #vegas #lasvegas #funtimes`\n"
      ]
    },
    {
      "cell_type": "code",
      "execution_count": 24,
      "metadata": {
        "colab": {
          "base_uri": "https://localhost:8080/",
          "height": 227
        },
        "id": "KTx-49cdInP3",
        "outputId": "2676d192-6c10-4c2a-9610-62404b31d7fe"
      },
      "outputs": [
        {
          "output_type": "stream",
          "name": "stderr",
          "text": [
            "<ipython-input-24-5e8ec0708d1e>:1: FutureWarning: The default value of regex will change from True to False in a future version.\n",
            "  raw['tidy_tweet'] = raw['tidy_tweet'].str.replace(r'\\b\\w{1,3}\\b', '')\n"
          ]
        },
        {
          "output_type": "execute_result",
          "data": {
            "text/plain": [
              "          id  label                                              tweet  \\\n",
              "790      791      1  @user and you keep telling that only aryans ar...   \n",
              "21928  21929      0                           @user what makes you  ?    \n",
              "25642  25643      0   â #nzd/usd extends rbnz-led rally, hits fre...   \n",
              "20436  20437      0  i'm on a mission to ride all of the animals!  ...   \n",
              "22552  22553      0  the color of a human skin matters a lot to the...   \n",
              "\n",
              "       len_tweets                                         tidy_tweet  \n",
              "790           109     keep telling that only aryans  allowed  rap...  \n",
              "21928          25                                     what makes      \n",
              "25642         101    #nzdusd extends rbnzled rally hits fresh 1ye...  \n",
              "20436          91     mission  ride    animals   #teamchanlv #veg...  \n",
              "22552          88   color   human skin matters     system when  c...  "
            ],
            "text/html": [
              "\n",
              "  <div id=\"df-c43b7a10-0643-426f-9d67-747a2d7a8ad9\">\n",
              "    <div class=\"colab-df-container\">\n",
              "      <div>\n",
              "<style scoped>\n",
              "    .dataframe tbody tr th:only-of-type {\n",
              "        vertical-align: middle;\n",
              "    }\n",
              "\n",
              "    .dataframe tbody tr th {\n",
              "        vertical-align: top;\n",
              "    }\n",
              "\n",
              "    .dataframe thead th {\n",
              "        text-align: right;\n",
              "    }\n",
              "</style>\n",
              "<table border=\"1\" class=\"dataframe\">\n",
              "  <thead>\n",
              "    <tr style=\"text-align: right;\">\n",
              "      <th></th>\n",
              "      <th>id</th>\n",
              "      <th>label</th>\n",
              "      <th>tweet</th>\n",
              "      <th>len_tweets</th>\n",
              "      <th>tidy_tweet</th>\n",
              "    </tr>\n",
              "  </thead>\n",
              "  <tbody>\n",
              "    <tr>\n",
              "      <th>790</th>\n",
              "      <td>791</td>\n",
              "      <td>1</td>\n",
              "      <td>@user and you keep telling that only aryans ar...</td>\n",
              "      <td>109</td>\n",
              "      <td>keep telling that only aryans  allowed  rap...</td>\n",
              "    </tr>\n",
              "    <tr>\n",
              "      <th>21928</th>\n",
              "      <td>21929</td>\n",
              "      <td>0</td>\n",
              "      <td>@user what makes you  ?</td>\n",
              "      <td>25</td>\n",
              "      <td>what makes</td>\n",
              "    </tr>\n",
              "    <tr>\n",
              "      <th>25642</th>\n",
              "      <td>25643</td>\n",
              "      <td>0</td>\n",
              "      <td>â #nzd/usd extends rbnz-led rally, hits fre...</td>\n",
              "      <td>101</td>\n",
              "      <td>#nzdusd extends rbnzled rally hits fresh 1ye...</td>\n",
              "    </tr>\n",
              "    <tr>\n",
              "      <th>20436</th>\n",
              "      <td>20437</td>\n",
              "      <td>0</td>\n",
              "      <td>i'm on a mission to ride all of the animals!  ...</td>\n",
              "      <td>91</td>\n",
              "      <td>mission  ride    animals   #teamchanlv #veg...</td>\n",
              "    </tr>\n",
              "    <tr>\n",
              "      <th>22552</th>\n",
              "      <td>22553</td>\n",
              "      <td>0</td>\n",
              "      <td>the color of a human skin matters a lot to the...</td>\n",
              "      <td>88</td>\n",
              "      <td>color   human skin matters     system when  c...</td>\n",
              "    </tr>\n",
              "  </tbody>\n",
              "</table>\n",
              "</div>\n",
              "      <button class=\"colab-df-convert\" onclick=\"convertToInteractive('df-c43b7a10-0643-426f-9d67-747a2d7a8ad9')\"\n",
              "              title=\"Convert this dataframe to an interactive table.\"\n",
              "              style=\"display:none;\">\n",
              "        \n",
              "  <svg xmlns=\"http://www.w3.org/2000/svg\" height=\"24px\"viewBox=\"0 0 24 24\"\n",
              "       width=\"24px\">\n",
              "    <path d=\"M0 0h24v24H0V0z\" fill=\"none\"/>\n",
              "    <path d=\"M18.56 5.44l.94 2.06.94-2.06 2.06-.94-2.06-.94-.94-2.06-.94 2.06-2.06.94zm-11 1L8.5 8.5l.94-2.06 2.06-.94-2.06-.94L8.5 2.5l-.94 2.06-2.06.94zm10 10l.94 2.06.94-2.06 2.06-.94-2.06-.94-.94-2.06-.94 2.06-2.06.94z\"/><path d=\"M17.41 7.96l-1.37-1.37c-.4-.4-.92-.59-1.43-.59-.52 0-1.04.2-1.43.59L10.3 9.45l-7.72 7.72c-.78.78-.78 2.05 0 2.83L4 21.41c.39.39.9.59 1.41.59.51 0 1.02-.2 1.41-.59l7.78-7.78 2.81-2.81c.8-.78.8-2.07 0-2.86zM5.41 20L4 18.59l7.72-7.72 1.47 1.35L5.41 20z\"/>\n",
              "  </svg>\n",
              "      </button>\n",
              "      \n",
              "  <style>\n",
              "    .colab-df-container {\n",
              "      display:flex;\n",
              "      flex-wrap:wrap;\n",
              "      gap: 12px;\n",
              "    }\n",
              "\n",
              "    .colab-df-convert {\n",
              "      background-color: #E8F0FE;\n",
              "      border: none;\n",
              "      border-radius: 50%;\n",
              "      cursor: pointer;\n",
              "      display: none;\n",
              "      fill: #1967D2;\n",
              "      height: 32px;\n",
              "      padding: 0 0 0 0;\n",
              "      width: 32px;\n",
              "    }\n",
              "\n",
              "    .colab-df-convert:hover {\n",
              "      background-color: #E2EBFA;\n",
              "      box-shadow: 0px 1px 2px rgba(60, 64, 67, 0.3), 0px 1px 3px 1px rgba(60, 64, 67, 0.15);\n",
              "      fill: #174EA6;\n",
              "    }\n",
              "\n",
              "    [theme=dark] .colab-df-convert {\n",
              "      background-color: #3B4455;\n",
              "      fill: #D2E3FC;\n",
              "    }\n",
              "\n",
              "    [theme=dark] .colab-df-convert:hover {\n",
              "      background-color: #434B5C;\n",
              "      box-shadow: 0px 1px 3px 1px rgba(0, 0, 0, 0.15);\n",
              "      filter: drop-shadow(0px 1px 2px rgba(0, 0, 0, 0.3));\n",
              "      fill: #FFFFFF;\n",
              "    }\n",
              "  </style>\n",
              "\n",
              "      <script>\n",
              "        const buttonEl =\n",
              "          document.querySelector('#df-c43b7a10-0643-426f-9d67-747a2d7a8ad9 button.colab-df-convert');\n",
              "        buttonEl.style.display =\n",
              "          google.colab.kernel.accessAllowed ? 'block' : 'none';\n",
              "\n",
              "        async function convertToInteractive(key) {\n",
              "          const element = document.querySelector('#df-c43b7a10-0643-426f-9d67-747a2d7a8ad9');\n",
              "          const dataTable =\n",
              "            await google.colab.kernel.invokeFunction('convertToInteractive',\n",
              "                                                     [key], {});\n",
              "          if (!dataTable) return;\n",
              "\n",
              "          const docLinkHtml = 'Like what you see? Visit the ' +\n",
              "            '<a target=\"_blank\" href=https://colab.research.google.com/notebooks/data_table.ipynb>data table notebook</a>'\n",
              "            + ' to learn more about interactive tables.';\n",
              "          element.innerHTML = '';\n",
              "          dataTable['output_type'] = 'display_data';\n",
              "          await google.colab.output.renderOutput(dataTable, element);\n",
              "          const docLink = document.createElement('div');\n",
              "          docLink.innerHTML = docLinkHtml;\n",
              "          element.appendChild(docLink);\n",
              "        }\n",
              "      </script>\n",
              "    </div>\n",
              "  </div>\n",
              "  "
            ],
            "application/vnd.google.colaboratory.module+javascript": "\n      import \"https://ssl.gstatic.com/colaboratory/data_table/99dac6621f6ae8c4/data_table.js\";\n\n      window.createDataTable({\n        data: [[{\n            'v': 790,\n            'f': \"790\",\n        },\n{\n            'v': 791,\n            'f': \"791\",\n        },\n{\n            'v': 1,\n            'f': \"1\",\n        },\n\"@user and you keep telling that only aryans are allowed to rape women! you're just a  troll! #eod @user @user\",\n{\n            'v': 109,\n            'f': \"109\",\n        },\n\"   keep telling that only aryans  allowed  rape women youre just   troll #  \"],\n [{\n            'v': 21928,\n            'f': \"21928\",\n        },\n{\n            'v': 21929,\n            'f': \"21929\",\n        },\n{\n            'v': 0,\n            'f': \"0\",\n        },\n\" @user what makes you  ? \",\n{\n            'v': 25,\n            'f': \"25\",\n        },\n\"  what makes    \"],\n [{\n            'v': 25642,\n            'f': \"25642\",\n        },\n{\n            'v': 25643,\n            'f': \"25643\",\n        },\n{\n            'v': 0,\n            'f': \"0\",\n        },\n\" \\u00e2\\u0086\\u009d #nzd/usd extends rbnz-led rally, hits fresh 1-year high near 0.7150   #blog #silver #gold #forex\",\n{\n            'v': 101,\n            'f': \"101\",\n        },\n\"  #nzdusd extends rbnzled rally hits fresh 1year high near 07150   #blog #silver #gold #forex\"],\n [{\n            'v': 20436,\n            'f': \"20436\",\n        },\n{\n            'v': 20437,\n            'f': \"20437\",\n        },\n{\n            'v': 0,\n            'f': \"0\",\n        },\n\"i'm on a mission to ride all of the animals!   #teamchanlv #vegas #lasvegas #funtimes  \\u00e2\\u0080\\u00a6 \",\n{\n            'v': 91,\n            'f': \"91\",\n        },\n\"   mission  ride    animals   #teamchanlv #vegas #lasvegas #funtimes   \"],\n [{\n            'v': 22552,\n            'f': \"22552\",\n        },\n{\n            'v': 22553,\n            'f': \"22553\",\n        },\n{\n            'v': 0,\n            'f': \"0\",\n        },\n\"the color of a human skin matters a lot to the system when it comes to judgement call.  \",\n{\n            'v': 88,\n            'f': \"88\",\n        },\n\" color   human skin matters     system when  comes  judgement call  \"]],\n        columns: [[\"number\", \"index\"], [\"number\", \"id\"], [\"number\", \"label\"], [\"string\", \"tweet\"], [\"number\", \"len_tweets\"], [\"string\", \"tidy_tweet\"]],\n        columnOptions: [{\"width\": \"1px\", \"className\": \"index_column\"}],\n        rowsPerPage: 25,\n        helpUrl: \"https://colab.research.google.com/notebooks/data_table.ipynb\",\n        suppressOutputScrolling: true,\n        minimumWidth: undefined,\n      });\n    "
          },
          "metadata": {},
          "execution_count": 24
        }
      ],
      "source": [
        "raw['tidy_tweet'] = raw['tidy_tweet'].str.replace(r'\\b\\w{1,3}\\b', '')\n",
        "raw.sample(5, random_state=203)"
      ]
    },
    {
      "cell_type": "markdown",
      "metadata": {
        "id": "Q5tzGFhXqHSd"
      },
      "source": [
        "11. Remove stopwords and perform text normalization. \n",
        "    \n",
        "    We will use `stopwords` collection and `SnowballStemmer` in `nltk` for this task. Before doing so, we need to tokenize the tweets. \n",
        "    Tokens are individual terms or words, and tokenization is simply to split a string of text into tokens. \n",
        "    You can use [`str.split()`](https://docs.python.org/3/library/stdtypes.html#str.split) on individual text and [`apply`](https://pandas.pydata.org/docs/reference/api/pandas.DataFrame.apply.html) a simple lambda function for the series `raw['tidy_tweet']` and save the result into `tokenized_tweet`. \n",
        "    \n",
        "    Check out some methods for the built-in type `str` [here](https://docs.python.org/3/library/stdtypes.html#string-methods)."
      ]
    },
    {
      "cell_type": "code",
      "execution_count": 25,
      "metadata": {
        "colab": {
          "base_uri": "https://localhost:8080/"
        },
        "id": "XLxQQG8600Hs",
        "outputId": "b4dcdf2c-c1a0-4372-a626-99b9caa819d9"
      },
      "outputs": [
        {
          "output_type": "execute_result",
          "data": {
            "text/plain": [
              "0    [when, father, dysfunctional, selfish, drags, ...\n",
              "1    [thanks, #lyft, credit, cant, cause, they, don...\n",
              "2                              [bihday, your, majesty]\n",
              "3                     [#model, love, take, with, time]\n",
              "4                   [factsguide, society, #motivation]\n",
              "Name: tidy_tweet, dtype: object"
            ]
          },
          "metadata": {},
          "execution_count": 25
        }
      ],
      "source": [
        "tokenized_tweet = raw['tidy_tweet'].apply(lambda x: x.split()) # tokenizing\n",
        "tokenized_tweet.head()"
      ]
    },
    {
      "cell_type": "markdown",
      "metadata": {
        "id": "SHtedqavqHSe"
      },
      "source": [
        "12. Extract stop words and remove them from the tokens.\n",
        "\n",
        "    Note: depending on the task / industry, it is highly recommended that one curate custom stop words. "
      ]
    },
    {
      "cell_type": "code",
      "execution_count": 26,
      "metadata": {
        "colab": {
          "base_uri": "https://localhost:8080/"
        },
        "id": "wG6tMYE9qHSe",
        "outputId": "b9a719a8-5eb7-44b1-81db-bb7030d6d8e3"
      },
      "outputs": [
        {
          "output_type": "stream",
          "name": "stderr",
          "text": [
            "[nltk_data] Downloading package stopwords to /root/nltk_data...\n",
            "[nltk_data]   Unzipping corpora/stopwords.zip.\n"
          ]
        }
      ],
      "source": [
        "import nltk\n",
        "nltk.download('stopwords')\n",
        "from nltk.corpus import stopwords\n",
        "stop_words = stopwords.words('english')"
      ]
    },
    {
      "cell_type": "code",
      "execution_count": 27,
      "metadata": {
        "id": "aP_uKcMnyHT5"
      },
      "outputs": [],
      "source": [
        "tokenized_tweet = tokenized_tweet.apply(lambda x: [item for item in x if item not in stop_words])"
      ]
    },
    {
      "cell_type": "code",
      "execution_count": 28,
      "metadata": {
        "id": "4NlUGjqCqHSe"
      },
      "outputs": [],
      "source": [
        "assert any(word in tokenized_tweet for word in stop_words) == False"
      ]
    },
    {
      "cell_type": "markdown",
      "metadata": {
        "id": "9iQM37ChqHSe"
      },
      "source": [
        "13. Create a new instance of a language specific [`SnowballStemmer`](https://www.nltk.org/api/nltk.stem.snowball.html), set the `language` to be \"english\"; see [how to](https://www.nltk.org/howto/stem.html). "
      ]
    },
    {
      "cell_type": "code",
      "execution_count": 29,
      "metadata": {
        "id": "deglx5x_04Bw"
      },
      "outputs": [],
      "source": [
        "from nltk.stem.snowball import SnowballStemmer\n",
        "stemmer = SnowballStemmer(\"english\")"
      ]
    },
    {
      "cell_type": "code",
      "execution_count": 30,
      "metadata": {
        "colab": {
          "base_uri": "https://localhost:8080/"
        },
        "id": "qm8nbcElyHT6",
        "outputId": "b9b3dc44-83e1-4cb1-80ea-c8495ddd1db4"
      },
      "outputs": [
        {
          "output_type": "execute_result",
          "data": {
            "text/plain": [
              "0    [father, dysfunct, selfish, drag, kid, dysfunc...\n",
              "1    [thank, #lyft, credit, cant, caus, dont, offer...\n",
              "2                                    [bihday, majesti]\n",
              "3                           [#model, love, take, time]\n",
              "4                         [factsguid, societi, #motiv]\n",
              "Name: tidy_tweet, dtype: object"
            ]
          },
          "metadata": {},
          "execution_count": 30
        }
      ],
      "source": [
        "tokenized_tweet = tokenized_tweet.apply(lambda x: [stemmer.stem(i) for i in x]) \n",
        "tokenized_tweet.head()"
      ]
    },
    {
      "cell_type": "markdown",
      "metadata": {
        "id": "ZvMfXkyiqHSe"
      },
      "source": [
        "14. Lastly, let's stitch these tokens in `tokenized_tweet` back together and save them in `raw['tidy_tweet']`. \n",
        "Use [`str.join()`](https://docs.python.org/3/library/stdtypes.html#str.join) and `apply`."
      ]
    },
    {
      "cell_type": "code",
      "execution_count": 31,
      "metadata": {
        "id": "fxJgsMjL1Bp-"
      },
      "outputs": [],
      "source": [
        "raw['tidy_tweet'] = tokenized_tweet.apply(lambda x: ' '.join(x))"
      ]
    },
    {
      "cell_type": "markdown",
      "metadata": {
        "id": "Ui0kvijA1SKS"
      },
      "source": [
        "# Task 2. Wordcloud and Hashtag"
      ]
    },
    {
      "cell_type": "markdown",
      "metadata": {
        "id": "Xgyq4Qj0qHSg"
      },
      "source": [
        "In this task, we want to gain a general idea of what the common words were and how hashtags were used in tweets. \n",
        "We will create wordclouds and extract the top hashtags used in each label. "
      ]
    },
    {
      "cell_type": "markdown",
      "metadata": {
        "id": "VcNrDDXUqHSg"
      },
      "source": [
        "1. Before doing so, out of caution of possible data leakage, split the `raw['tidy_tweet']` into training and test datasets in a stratified fashion, set the test size at .25 and random state as 42.\n",
        "    \n",
        "    Save the results into `X_train`, `X_test`, `y_train`, and `y_test`."
      ]
    },
    {
      "cell_type": "code",
      "execution_count": 32,
      "metadata": {
        "id": "qwoflQr71QhH"
      },
      "outputs": [],
      "source": [
        "from sklearn.model_selection import train_test_split\n",
        "\n",
        "X_train, X_test, y_train, y_test = train_test_split(\n",
        "    raw['tidy_tweet'], raw.label, \n",
        "    test_size=0.25, random_state=42, stratify=raw.label)"
      ]
    },
    {
      "cell_type": "code",
      "execution_count": 33,
      "metadata": {
        "id": "6QKFflId1XYb"
      },
      "outputs": [],
      "source": [
        "assert X_train.shape == y_train.shape == (23971, )\n",
        "assert X_test.shape == y_test.shape == (7991,)"
      ]
    },
    {
      "cell_type": "markdown",
      "metadata": {
        "id": "I1JaWVklqHSg"
      },
      "source": [
        "2. A word cloud is a cluster of words depicted in different sizes. \n",
        "The bigger the word appears, the more often it appears in the given text. \n",
        "It can offer an easy visual presentation to reveal the theme of a topic. \n",
        "\n",
        "    Function `plot_wordcloud` is provided to plot 50 most frequent words from the given text in the shape of twitter's logo. \n",
        "    You may need to replace the image path accordingly."
      ]
    },
    {
      "cell_type": "code",
      "execution_count": 39,
      "metadata": {
        "id": "UByekRZz1rxT"
      },
      "outputs": [],
      "source": [
        "from wordcloud import WordCloud\n",
        "import matplotlib.pyplot as plt\n",
        "import numpy as np\n",
        "from PIL import Image\n",
        "\n",
        "def plot_wordcloud(text:str) -> None:\n",
        "    '''\n",
        "    Plot a wordcloud of top 50 words from the input text\n",
        "    masked by twitter logo\n",
        "    '''\n",
        "    mask = np.array(Image.open('twitter-mask.png')) # REPLACE w/ YOUR FILE PATH\n",
        "    wordcloud = WordCloud( \n",
        "        background_color='white', \n",
        "        random_state=42,\n",
        "        max_words=50, \n",
        "        max_font_size=80, \n",
        "        mask = mask).generate(text)\n",
        "    plt.figure(figsize=(10,10))\n",
        "    plt.imshow(wordcloud, interpolation=\"bilinear\")\n",
        "    plt.axis(\"off\")\n",
        "    plt.show()"
      ]
    },
    {
      "cell_type": "markdown",
      "metadata": {
        "id": "9bK-Eqb1qHSh"
      },
      "source": [
        "3. Visualize the wordcloud. \n",
        "\n",
        "    The function expects one long string. \n",
        "    Stitch all tidy tweets from training set and save the single string to `all_words`, then visualize the wordcloud for all the words."
      ]
    },
    {
      "cell_type": "code",
      "execution_count": 35,
      "metadata": {
        "id": "EnDDuy7R2Bb5"
      },
      "outputs": [],
      "source": [
        "all_words = ' '.join([text for text in raw['tidy_tweet']])"
      ]
    },
    {
      "cell_type": "code",
      "execution_count": 40,
      "metadata": {
        "colab": {
          "base_uri": "https://localhost:8080/",
          "height": 511
        },
        "id": "Ee6LQ9dE2TYi",
        "outputId": "9fd6ae7b-3d28-4b12-bace-48874571eb77"
      },
      "outputs": [
        {
          "output_type": "display_data",
          "data": {
            "text/plain": [
              "<Figure size 720x720 with 1 Axes>"
            ],
            "image/png": "[encoded data removed]"
          },
          "metadata": {
            "needs_background": "light"
          }
        }
      ],
      "source": [
        "plot_wordcloud(all_words)"
      ]
    },
    {
      "cell_type": "markdown",
      "metadata": {
        "id": "luL-uZdHqHSh"
      },
      "source": [
        "4. Visualize the wordcloud just for the text from the tweets identified as hate speech. \n",
        "\n",
        "    Similarly, you need to stitch all the tidy tweets in training set that were identified as hate speech. \n",
        "    Save the long string to `negative_words`."
      ]
    },
    {
      "cell_type": "code",
      "execution_count": 41,
      "metadata": {
        "id": "0gp9fXlr2pik"
      },
      "outputs": [],
      "source": [
        "negative_words = ' '.join([text for text in raw['tidy_tweet'][raw.label == 1]])"
      ]
    },
    {
      "cell_type": "code",
      "execution_count": 42,
      "metadata": {
        "colab": {
          "base_uri": "https://localhost:8080/",
          "height": 511
        },
        "id": "gmtJ41t22uhR",
        "outputId": "8cfcdb00-c5ac-4286-e004-b9a3f339d7b2"
      },
      "outputs": [
        {
          "output_type": "display_data",
          "data": {
            "text/plain": [
              "<Figure size 720x720 with 1 Axes>"
            ],
            "image/png": "[encoded data removed]"
          },
          "metadata": {
            "needs_background": "light"
          }
        }
      ],
      "source": [
        "plot_wordcloud(negative_words)"
      ]
    },
    {
      "cell_type": "markdown",
      "metadata": {
        "id": "l0B4y2c0qHSh"
      },
      "source": [
        "5. Hashtag is a feature for tweets and we would like to inspect if hashtags provide information for our classification task. \n",
        "\n",
        "    Function `hashtag_extract` is provided to extract hastags from an iterable (list or series) and return the hashtags in a list. "
      ]
    },
    {
      "cell_type": "code",
      "execution_count": 43,
      "metadata": {
        "id": "GqtqY7a422_e"
      },
      "outputs": [],
      "source": [
        "def hashtag_extract(x) -> list:\n",
        "    \"\"\"\n",
        "    extract hastags from an iterable (list or series) and \n",
        "    return the hashtags in a list.\n",
        "    \"\"\"\n",
        "    hashtags = []\n",
        "    # Loop over the words in the tweet\n",
        "    for i in x:\n",
        "        ht = re.findall(r\"#(\\w+)\", i)\n",
        "        hashtags.append(ht)\n",
        "    return hashtags"
      ]
    },
    {
      "cell_type": "markdown",
      "metadata": {
        "id": "nU3Zu-flqHSh"
      },
      "source": [
        "6. Extract hashtags from non-hate speech tweets."
      ]
    },
    {
      "cell_type": "code",
      "execution_count": 44,
      "metadata": {
        "id": "AVXhRL7m264-"
      },
      "outputs": [],
      "source": [
        "HT_regular = hashtag_extract(raw['tidy_tweet'][raw.label == 0])"
      ]
    },
    {
      "cell_type": "code",
      "execution_count": 45,
      "metadata": {
        "id": "vp1TyoOL3OoM"
      },
      "outputs": [],
      "source": [
        "assert type(HT_regular) == list\n",
        "assert type(HT_regular[0]) == list # nested list"
      ]
    },
    {
      "cell_type": "markdown",
      "metadata": {
        "id": "4AmW0K8HqHSh"
      },
      "source": [
        "7. Now extract hashtags from hate speech tweets."
      ]
    },
    {
      "cell_type": "code",
      "execution_count": 46,
      "metadata": {
        "id": "jLaYv03728h5"
      },
      "outputs": [],
      "source": [
        "HT_negative = hashtag_extract(raw['tidy_tweet'][raw.label == 1])"
      ]
    },
    {
      "cell_type": "markdown",
      "metadata": {
        "id": "cowz9OnGqHSi"
      },
      "source": [
        "8. Both `HT_regular` and `HT_negative` are nested lists, so use the following trick to unnest both lists."
      ]
    },
    {
      "cell_type": "code",
      "execution_count": 47,
      "metadata": {
        "id": "lQnGQJ2n3F1X"
      },
      "outputs": [],
      "source": [
        "HT_regular = sum(HT_regular,[])\n",
        "HT_negative = sum(HT_negative,[])"
      ]
    },
    {
      "cell_type": "code",
      "execution_count": 48,
      "metadata": {
        "id": "RDYOiVR83H1c"
      },
      "outputs": [],
      "source": [
        "assert type(HT_regular) == type(HT_negative) == list\n",
        "assert type(HT_regular[0]) == type(HT_negative[0]) == str"
      ]
    },
    {
      "cell_type": "markdown",
      "metadata": {
        "id": "zR7o3Cp7qHSi"
      },
      "source": [
        "9. Complete the function `top_hashtags` below to take a list of hashtags and return the top `n` hashtag keyword and its frequncy. "
      ]
    },
    {
      "cell_type": "code",
      "execution_count": 51,
      "metadata": {
        "id": "gDatTFKT3cjp"
      },
      "outputs": [],
      "source": [
        "from typing import List, Tuple\n",
        "from collections import Counter\n",
        "def top_hashtags(hashtags:List[str], n=10) -> List[Tuple[str, int]]:\n",
        "    ''' Function to return the top n hashtags '''\n",
        "    hashtags = [hashtag.lower() for hashtag in hashtags]\n",
        "    hashtag_counts = Counter(hashtags)\n",
        "    return hashtag_counts.most_common(n)"
      ]
    },
    {
      "cell_type": "markdown",
      "metadata": {
        "id": "aGukKYCiyHT8"
      },
      "source": [
        "1. Apply the function to the hashtag lists from the non-hate speech tweets and the hate speech tweets."
      ]
    },
    {
      "cell_type": "code",
      "execution_count": 52,
      "metadata": {
        "id": "gG84iMvE3m78",
        "colab": {
          "base_uri": "https://localhost:8080/"
        },
        "outputId": "055e16b8-bafa-43d4-cb38-54373333bd90"
      },
      "outputs": [
        {
          "output_type": "execute_result",
          "data": {
            "text/plain": [
              "[('love', 1639),\n",
              " ('posit', 917),\n",
              " ('smile', 674),\n",
              " ('healthi', 572),\n",
              " ('thank', 534),\n",
              " ('affirm', 423),\n",
              " ('life', 423),\n",
              " ('model', 375),\n",
              " ('summer', 371),\n",
              " ('cute', 367)]"
            ]
          },
          "metadata": {},
          "execution_count": 52
        }
      ],
      "source": [
        "top_hashtags(HT_regular, n=10)"
      ]
    },
    {
      "cell_type": "code",
      "execution_count": 53,
      "metadata": {
        "colab": {
          "base_uri": "https://localhost:8080/"
        },
        "id": "-BHAjo7Y3pYO",
        "outputId": "4158ae92-f604-48a1-aa59-94ef9ca9a328"
      },
      "outputs": [
        {
          "output_type": "execute_result",
          "data": {
            "text/plain": [
              "[('trump', 136),\n",
              " ('polit', 95),\n",
              " ('allahsoil', 92),\n",
              " ('liber', 81),\n",
              " ('libtard', 77),\n",
              " ('retweet', 63),\n",
              " ('black', 46),\n",
              " ('miami', 46),\n",
              " ('hate', 37),\n",
              " ('bigot', 36)]"
            ]
          },
          "metadata": {},
          "execution_count": 53
        }
      ],
      "source": [
        "top_hashtags(HT_negative, n=10)"
      ]
    },
    {
      "cell_type": "markdown",
      "metadata": {
        "id": "IjJbs5SsqHSi"
      },
      "source": [
        "10. DISCUSS: are these hashtags making sense? should we include them as features or should we strip the # before tokenizing (that is, treat \"#love\" the same as \"love\")? why and why not?\n",
        "          #YOUR ANSWER HERE"
      ]
    },
    {
      "cell_type": "markdown",
      "metadata": {
        "id": "CEYAGVIl37vK"
      },
      "source": [
        "# Task 3. Features"
      ]
    },
    {
      "cell_type": "markdown",
      "metadata": {
        "id": "J7ekNaI9qHSj"
      },
      "source": [
        "Note that almost all the machine learning related Python modules expect numerical presentation of data; thus we need to transform our text first.\n",
        "We will experiment with bag of words, tf-idf, and word2vec.  "
      ]
    },
    {
      "cell_type": "markdown",
      "metadata": {
        "id": "xKTmxB0BqHSj"
      },
      "source": [
        "1. Convert the collection of text documents to a matrix of token counts.\n",
        "\n",
        "    Check the [official documentation](https://scikit-learn.org/stable/modules/generated/sklearn.feature_extraction.text.CountVectorizer.html). \n",
        "    \n",
        "    Create an instance of `CountVectorizer` named `bow_vectorizer`, set `max_features` to be `MAX_FEATURES`.\n",
        "    Learn the vocabulary dictionary and return document-term matrix and save it to `bow_train`. Use `.fit_transform`. "
      ]
    },
    {
      "cell_type": "code",
      "execution_count": 55,
      "metadata": {
        "id": "uNb93rk3392m"
      },
      "outputs": [],
      "source": [
        "from sklearn.feature_extraction.text import CountVectorizer\n",
        "MAX_FEATURES = 1000\n",
        "\n",
        "\n",
        "bow_vectorizer = CountVectorizer(max_features=MAX_FEATURES, stop_words='english')\n",
        "bow_train = bow_vectorizer.fit_transform(X_train)"
      ]
    },
    {
      "cell_type": "code",
      "execution_count": 56,
      "metadata": {
        "id": "mZd0m7px4OEZ"
      },
      "outputs": [],
      "source": [
        "assert bow_train.shape == (X_train.shape[0], MAX_FEATURES)"
      ]
    },
    {
      "cell_type": "markdown",
      "metadata": {
        "id": "6gW16ek1qHSj"
      },
      "source": [
        "2. Print the first three rows from `bow_train`. Hint: `.toarray()`."
      ]
    },
    {
      "cell_type": "code",
      "execution_count": 57,
      "metadata": {
        "colab": {
          "base_uri": "https://localhost:8080/"
        },
        "id": "pYsQFElmqHSj",
        "outputId": "42eaa0d3-880e-4dd9-936c-f38a3a1a16af"
      },
      "outputs": [
        {
          "output_type": "execute_result",
          "data": {
            "text/plain": [
              "array([[0, 0, 0, ..., 0, 0, 0],\n",
              "       [1, 0, 0, ..., 0, 0, 0],\n",
              "       [0, 0, 0, ..., 0, 0, 0]])"
            ]
          },
          "metadata": {},
          "execution_count": 57
        }
      ],
      "source": [
        "bow_train.toarray()[:3]"
      ]
    },
    {
      "cell_type": "code",
      "execution_count": 58,
      "metadata": {
        "id": "lY2VSoMg48kb",
        "scrolled": true,
        "colab": {
          "base_uri": "https://localhost:8080/"
        },
        "outputId": "629d2be6-68bf-493f-aac4-3c500122c870"
      },
      "outputs": [
        {
          "output_type": "stream",
          "name": "stderr",
          "text": [
            "<ipython-input-58-873637c8bfb2>:1: DeprecationWarning: Please use `csr_matrix` from the `scipy.sparse` namespace, the `scipy.sparse.csr` namespace is deprecated.\n",
            "  from scipy.sparse.csr import csr_matrix\n"
          ]
        }
      ],
      "source": [
        "from scipy.sparse.csr import csr_matrix\n",
        "assert type(bow_train) == csr_matrix"
      ]
    },
    {
      "cell_type": "markdown",
      "metadata": {
        "id": "oQdQrhVNqHSj"
      },
      "source": [
        "3. Similarly, convert the collection of text documents to a matrix of TF-IDF features.\n",
        "    \n",
        "    Create an instance of [`TfidfVectorizer`](https://scikit-learn.org/stable/modules/generated/sklearn.feature_extraction.text.TfidfVectorizer.html#sklearn.feature_extraction.text.TfidfVectorizer) named `tfidf_vectorizer`, set `max_features` to be `MAX_FEATURES`.\n",
        "\n",
        "    Learn the vocabulary and idf, return document-term matrix and save it to `tfidf_train`. "
      ]
    },
    {
      "cell_type": "code",
      "execution_count": 59,
      "metadata": {
        "id": "ijW78I3v4Y81"
      },
      "outputs": [],
      "source": [
        "from sklearn.feature_extraction.text import TfidfVectorizer"
      ]
    },
    {
      "cell_type": "code",
      "execution_count": 60,
      "metadata": {
        "id": "aDUa96KO4bmT"
      },
      "outputs": [],
      "source": [
        "tfidf_vectorizer = TfidfVectorizer(max_features=MAX_FEATURES, stop_words='english')\n",
        "tfidf_train = tfidf_vectorizer.fit_transform(X_train)"
      ]
    },
    {
      "cell_type": "code",
      "execution_count": 61,
      "metadata": {
        "id": "vTrhLbMi4fjg"
      },
      "outputs": [],
      "source": [
        "assert type(tfidf_train) == csr_matrix\n",
        "assert tfidf_train.shape == bow_train.shape == (X_train.shape[0], MAX_FEATURES)"
      ]
    },
    {
      "cell_type": "markdown",
      "metadata": {
        "id": "7OSGoE73Avaj"
      },
      "source": [
        "4. Extract word embeddings using Word2Vec. \n",
        "We will use [`gensim`](https://radimrehurek.com/gensim/auto_examples/tutorials/run_word2vec.html) for this task. \n",
        "    \n",
        "    The Word2Vec model takes either a list of lists of tokens or an iterable that streams the sentences directly from disk/network. \n",
        "    Here, we tokenize the tidy tweets in `X_train` and save the list (`pd.series`) of lists of tokens to `tokenized_tweet`. "
      ]
    },
    {
      "cell_type": "code",
      "execution_count": 62,
      "metadata": {
        "id": "sadI5JU257TF"
      },
      "outputs": [],
      "source": [
        "from gensim.models import Word2Vec\n",
        "tokenized_tweet = X_train.apply(lambda x: x.split())"
      ]
    },
    {
      "cell_type": "code",
      "execution_count": 63,
      "metadata": {
        "id": "MK1E2oM36Apt"
      },
      "outputs": [],
      "source": [
        "assert tokenized_tweet.shape == X_train.shape"
      ]
    },
    {
      "cell_type": "code",
      "execution_count": 64,
      "metadata": {
        "colab": {
          "base_uri": "https://localhost:8080/"
        },
        "id": "hQ__p8hn6E5r",
        "outputId": "d5f012fc-8348-4fe7-8224-a4274a4d3286"
      },
      "outputs": [
        {
          "output_type": "execute_result",
          "data": {
            "text/plain": [
              "1036     [like, spread, peanut, butter, white, bread, #...\n",
              "2380     [watch, made, america, simpson, 30for30, inter...\n",
              "31605    [franci, underwood, seen, leav, marseill, #nojok]\n",
              "23437    [#, #enjoy, #music, #today, #free, #app, #free...\n",
              "2669     [#juic, experi, #notsobad, #healthyliv, #eatcl...\n",
              "Name: tidy_tweet, dtype: object"
            ]
          },
          "metadata": {},
          "execution_count": 64
        }
      ],
      "source": [
        "tokenized_tweet.head()"
      ]
    },
    {
      "cell_type": "markdown",
      "metadata": {
        "id": "rBeFwgakqHSk"
      },
      "source": [
        "5. Import `Word2Vec` from `gensim.models`; see [doc](https://radimrehurek.com/gensim/models/word2vec.html#gensim.models.word2vec.Word2Vec). \n",
        "\n",
        "    Create a skip-gram `Word2Vec` instance named `w2v` that learns on the `tokenized_tweet`, with `vector_size` set at `MAX_FEATURES`, and other parameters are provided. "
      ]
    },
    {
      "cell_type": "code",
      "execution_count": 65,
      "metadata": {
        "id": "vgYpd2kq6LW0"
      },
      "outputs": [],
      "source": [
        "from gensim.models import Word2Vec"
      ]
    },
    {
      "cell_type": "code",
      "execution_count": 66,
      "metadata": {
        "id": "yfPufOPJ6MFl"
      },
      "outputs": [],
      "source": [
        "w2v = Word2Vec(\n",
        "        tokenized_tweet,\n",
        "        vector_size=MAX_FEATURES,\n",
        "        window=5, min_count=2, sg = 1,\n",
        "        hs = 0, negative = 10,\n",
        "        workers= 2, seed = 34\n",
        "\n",
        "        )"
      ]
    },
    {
      "cell_type": "markdown",
      "metadata": {
        "id": "DpSomU5qqHSk"
      },
      "source": [
        "6. Train the skip-gram model, set the epochs at 20."
      ]
    },
    {
      "cell_type": "code",
      "execution_count": 67,
      "metadata": {
        "colab": {
          "base_uri": "https://localhost:8080/"
        },
        "id": "eyMxunhc7jAm",
        "outputId": "830d5928-59fe-4785-ee78-c98b5c4c1666"
      },
      "outputs": [
        {
          "output_type": "stream",
          "name": "stderr",
          "text": [
            "WARNING:gensim.models.word2vec:Effective 'alpha' higher than previous training cycles\n"
          ]
        },
        {
          "output_type": "stream",
          "name": "stdout",
          "text": [
            "CPU times: user 1min 34s, sys: 182 ms, total: 1min 34s\n",
            "Wall time: 1min 6s\n"
          ]
        },
        {
          "output_type": "execute_result",
          "data": {
            "text/plain": [
              "(2709069, 3324060)"
            ]
          },
          "metadata": {},
          "execution_count": 67
        }
      ],
      "source": [
        "%%time\n",
        "w2v.train(tokenized_tweet, total_examples= len(X_train), epochs=20)"
      ]
    },
    {
      "cell_type": "markdown",
      "metadata": {
        "id": "VIGnBtKvqHSk"
      },
      "source": [
        "7. Let's see how the model performs. \n",
        "Specify a word and print out the 10 most similar words from the our tweets in the training set. \n",
        "Use [`most_similar`](https://radimrehurek.com/gensim/models/keyedvectors.html#gensim.models.keyedvectors.KeyedVectors.most_similar). \n",
        "Hint: print the type of `w2v` and `w2v.wv`."
      ]
    },
    {
      "cell_type": "code",
      "execution_count": 69,
      "metadata": {
        "colab": {
          "base_uri": "https://localhost:8080/"
        },
        "id": "Sy9r-1Uz7sXl",
        "outputId": "212b2e15-2018-4226-a2f7-6eef5aafe608"
      },
      "outputs": [
        {
          "output_type": "execute_result",
          "data": {
            "text/plain": [
              "[('grant', 0.47900500893592834),\n",
              " ('#print', 0.473071813583374),\n",
              " ('rejoic', 0.46981754899024963),\n",
              " ('#bridal', 0.46470576524734497),\n",
              " ('iloveyou', 0.4599407911300659),\n",
              " ('#mommylif', 0.457069456577301),\n",
              " ('#lovemyjob', 0.4568599462509155),\n",
              " ('duncan', 0.451063334941864),\n",
              " ('#alreadi', 0.45054757595062256),\n",
              " ('thanku', 0.4464171826839447)]"
            ]
          },
          "metadata": {},
          "execution_count": 69
        }
      ],
      "source": [
        "w2v.wv.most_similar(positive=\"love\")"
      ]
    },
    {
      "cell_type": "markdown",
      "metadata": {
        "id": "THzz40pI8cii"
      },
      "source": [
        "8. Discuss: how does w2v calculate the similarities? \n",
        "\n",
        "Word2Vec uses the dot product of the two vectors. The cosine similarity between two vectors is the dot product of the vectors divided by the product of their magnitudes. The dot product is a measure of how much the two vectors point in the same direction, and the cosine similarity normalizes this value to give a measure of how similar the two vectors are in direction."
      ]
    },
    {
      "cell_type": "markdown",
      "metadata": {
        "id": "PpUeqahqqHSl"
      },
      "source": [
        "9. Discuss: do you think Word2Vec is supervised or unsupervised ML technique?\n",
        "\n",
        "Word2Vec is an unsupervised machine learning technique. This is because it does not require any labeled data or human supervision to learn the relationships between words."
      ]
    },
    {
      "cell_type": "markdown",
      "metadata": {
        "id": "-kDDUHKTqHSl"
      },
      "source": [
        "10. Engineer features. \n",
        "\n",
        "    For each tweet, we calculate the average of embeddings (function `word_vector`) and then apply it to every tidy tweet in `X_train` (use function `tokens_to_array`).\n",
        "    Both functions are provided, inspect the code and save the features in `w2v_train`."
      ]
    },
    {
      "cell_type": "code",
      "execution_count": 70,
      "metadata": {
        "id": "NudS0OF28b_d"
      },
      "outputs": [],
      "source": [
        "from gensim.models.keyedvectors import KeyedVectors\n",
        "\n",
        "def word_vector(tokens:list, size:int, keyed_vec:KeyedVectors= w2v.wv):\n",
        "    vec = np.zeros(size).reshape((1, size))\n",
        "    count = 0\n",
        "    for word in tokens:\n",
        "        try:\n",
        "            vec += keyed_vec[word].reshape((1, size))\n",
        "            count += 1\n",
        "        except KeyError: \n",
        "            # handling the case where the token is not in vocabulary        \n",
        "            continue\n",
        "    if count != 0:\n",
        "        vec /= count\n",
        "    return vec\n",
        "\n",
        "def tokens_to_array(tokens:list, size:int, keyed_vec:KeyedVectors= w2v.wv):\n",
        "    array = np.zeros((len(tokens), size))\n",
        "    for i in range(len(tokens)):\n",
        "        array[i,:] = word_vector(tokens.iloc[i], size, keyed_vec=keyed_vec)\n",
        "    return array"
      ]
    },
    {
      "cell_type": "code",
      "execution_count": 71,
      "metadata": {
        "id": "vea6FT7V8yuR"
      },
      "outputs": [],
      "source": [
        "w2v_train = tokens_to_array(X_train, MAX_FEATURES, keyed_vec=w2v.wv)"
      ]
    },
    {
      "cell_type": "code",
      "execution_count": 72,
      "metadata": {
        "id": "UV5XtAk09iZl"
      },
      "outputs": [],
      "source": [
        "assert w2v_train.shape == (X_train.shape[0], MAX_FEATURES)"
      ]
    },
    {
      "cell_type": "markdown",
      "metadata": {
        "id": "dhzWKjs_9o55"
      },
      "source": [
        "11. Prepare the test data before modeling for each approach:\n",
        "\n",
        "\n",
        "  - extract features from `X_test` using the bag of words approach; use `bow_vectorizer`\n",
        "  - extract features from `X_test` using the tf-idf approach; use `tfidf_vectorizer`\n",
        "  - extract features from `X_test` using Word2Vec embeddings; you need to first tokenized the tidy tweets in `X_test`, then convert the tokens to array of shape `(X_test.shape[0], MAX_FEATURES)`."
      ]
    },
    {
      "cell_type": "code",
      "execution_count": 73,
      "metadata": {
        "id": "Iv5j92GP9nyC"
      },
      "outputs": [],
      "source": [
        "bow_test = bow_vectorizer.transform(X_test)\n",
        "tfidf_test = tfidf_vectorizer.transform(X_test)\n",
        "\n",
        "tokenized_tweet_test =  X_test.apply(lambda x: x.split())\n",
        "w2v_test = tokens_to_array(tokenized_tweet_test, MAX_FEATURES, keyed_vec=w2v.wv)"
      ]
    },
    {
      "cell_type": "code",
      "execution_count": 74,
      "metadata": {
        "id": "tJw-KwNu9_l6"
      },
      "outputs": [],
      "source": [
        "assert bow_test.shape == tfidf_test.shape == w2v_test.shape == (X_test.shape[0], MAX_FEATURES)"
      ]
    },
    {
      "cell_type": "markdown",
      "metadata": {
        "id": "0zHJBHsC3w7J"
      },
      "source": [
        "# Task 4. Naive Bayes classifiers"
      ]
    },
    {
      "cell_type": "markdown",
      "metadata": {
        "id": "bN3pJcOI3_xs"
      },
      "source": [
        "In this task, you will build a [naive Bayes](https://sebastianraschka.com/Articles/2014_naive_bayes_1.html) (here's another [ref](https://www.inf.ed.ac.uk/teaching/courses/inf2b/learnnotes/inf2b-learn07-notes-nup.pdf)), classifiers to identify the hate speech tweets using different sets of features from the last task, and evaluate their performances. \n",
        "\n",
        "In the era of deep learning, naive Bayes is useful due to its simplicity and reasonable performance, especially if there is not much training data available. A common interview question is \"Why is naive Bayes naive?\". \n",
        "\n",
        "We will use multi-variate Bernoulli naive Bayes [`BernoulliNB`](https://scikit-learn.org/stable/modules/generated/sklearn.naive_bayes.BernoulliNB.html); try other flavors of [naive Bayes](https://scikit-learn.org/stable/modules/classes.html#module-sklearn.naive_bayes) if time permits. Code is pretty straightforward. \n",
        "\n",
        "1. Import `BernoulliNB` for modeling and `classification_report` for reporting performance. "
      ]
    },
    {
      "cell_type": "code",
      "execution_count": 75,
      "metadata": {
        "id": "fwaj5Ksd3rk8"
      },
      "outputs": [],
      "source": [
        "from sklearn.naive_bayes import BernoulliNB\n",
        "from sklearn.metrics import classification_report"
      ]
    },
    {
      "cell_type": "markdown",
      "metadata": {
        "id": "lp8jYLY_qHSm"
      },
      "source": [
        "2. Create an instance of  `BernoulliNB` named `BNBmodel`. \n",
        "\n",
        "    We can use it for all three feature sets."
      ]
    },
    {
      "cell_type": "code",
      "execution_count": 76,
      "metadata": {
        "id": "R9NtOCqv3wRK"
      },
      "outputs": [],
      "source": [
        "BNBmodel = BernoulliNB()"
      ]
    },
    {
      "cell_type": "markdown",
      "metadata": {
        "id": "AKuGCGdfqHSm"
      },
      "source": [
        "3. Train the multi-variate Bernoulli naive Bayes using bag of words features and print the performance report."
      ]
    },
    {
      "cell_type": "code",
      "execution_count": 77,
      "metadata": {
        "colab": {
          "base_uri": "https://localhost:8080/",
          "height": 74
        },
        "id": "hJjuMZspahLB",
        "outputId": "d132a85d-a794-4e1e-b357-cadcd0c64afd"
      },
      "outputs": [
        {
          "output_type": "execute_result",
          "data": {
            "text/plain": [
              "BernoulliNB()"
            ],
            "text/html": [
              "<style>#sk-container-id-1 {color: black;background-color: white;}#sk-container-id-1 pre{padding: 0;}#sk-container-id-1 div.sk-toggleable {background-color: white;}#sk-container-id-1 label.sk-toggleable__label {cursor: pointer;display: block;width: 100%;margin-bottom: 0;padding: 0.3em;box-sizing: border-box;text-align: center;}#sk-container-id-1 label.sk-toggleable__label-arrow:before {content: \"▸\";float: left;margin-right: 0.25em;color: #696969;}#sk-container-id-1 label.sk-toggleable__label-arrow:hover:before {color: black;}#sk-container-id-1 div.sk-estimator:hover label.sk-toggleable__label-arrow:before {color: black;}#sk-container-id-1 div.sk-toggleable__content {max-height: 0;max-width: 0;overflow: hidden;text-align: left;background-color: #f0f8ff;}#sk-container-id-1 div.sk-toggleable__content pre {margin: 0.2em;color: black;border-radius: 0.25em;background-color: #f0f8ff;}#sk-container-id-1 input.sk-toggleable__control:checked~div.sk-toggleable__content {max-height: 200px;max-width: 100%;overflow: auto;}#sk-container-id-1 input.sk-toggleable__control:checked~label.sk-toggleable__label-arrow:before {content: \"▾\";}#sk-container-id-1 div.sk-estimator input.sk-toggleable__control:checked~label.sk-toggleable__label {background-color: #d4ebff;}#sk-container-id-1 div.sk-label input.sk-toggleable__control:checked~label.sk-toggleable__label {background-color: #d4ebff;}#sk-container-id-1 input.sk-hidden--visually {border: 0;clip: rect(1px 1px 1px 1px);clip: rect(1px, 1px, 1px, 1px);height: 1px;margin: -1px;overflow: hidden;padding: 0;position: absolute;width: 1px;}#sk-container-id-1 div.sk-estimator {font-family: monospace;background-color: #f0f8ff;border: 1px dotted black;border-radius: 0.25em;box-sizing: border-box;margin-bottom: 0.5em;}#sk-container-id-1 div.sk-estimator:hover {background-color: #d4ebff;}#sk-container-id-1 div.sk-parallel-item::after {content: \"\";width: 100%;border-bottom: 1px solid gray;flex-grow: 1;}#sk-container-id-1 div.sk-label:hover label.sk-toggleable__label {background-color: #d4ebff;}#sk-container-id-1 div.sk-serial::before {content: \"\";position: absolute;border-left: 1px solid gray;box-sizing: border-box;top: 0;bottom: 0;left: 50%;z-index: 0;}#sk-container-id-1 div.sk-serial {display: flex;flex-direction: column;align-items: center;background-color: white;padding-right: 0.2em;padding-left: 0.2em;position: relative;}#sk-container-id-1 div.sk-item {position: relative;z-index: 1;}#sk-container-id-1 div.sk-parallel {display: flex;align-items: stretch;justify-content: center;background-color: white;position: relative;}#sk-container-id-1 div.sk-item::before, #sk-container-id-1 div.sk-parallel-item::before {content: \"\";position: absolute;border-left: 1px solid gray;box-sizing: border-box;top: 0;bottom: 0;left: 50%;z-index: -1;}#sk-container-id-1 div.sk-parallel-item {display: flex;flex-direction: column;z-index: 1;position: relative;background-color: white;}#sk-container-id-1 div.sk-parallel-item:first-child::after {align-self: flex-end;width: 50%;}#sk-container-id-1 div.sk-parallel-item:last-child::after {align-self: flex-start;width: 50%;}#sk-container-id-1 div.sk-parallel-item:only-child::after {width: 0;}#sk-container-id-1 div.sk-dashed-wrapped {border: 1px dashed gray;margin: 0 0.4em 0.5em 0.4em;box-sizing: border-box;padding-bottom: 0.4em;background-color: white;}#sk-container-id-1 div.sk-label label {font-family: monospace;font-weight: bold;display: inline-block;line-height: 1.2em;}#sk-container-id-1 div.sk-label-container {text-align: center;}#sk-container-id-1 div.sk-container {/* jupyter's `normalize.less` sets `[hidden] { display: none; }` but bootstrap.min.css set `[hidden] { display: none !important; }` so we also need the `!important` here to be able to override the default hidden behavior on the sphinx rendered scikit-learn.org. See: https://github.com/scikit-learn/scikit-learn/issues/21755 */display: inline-block !important;position: relative;}#sk-container-id-1 div.sk-text-repr-fallback {display: none;}</style><div id=\"sk-container-id-1\" class=\"sk-top-container\"><div class=\"sk-text-repr-fallback\"><pre>BernoulliNB()</pre><b>In a Jupyter environment, please rerun this cell to show the HTML representation or trust the notebook. <br />On GitHub, the HTML representation is unable to render, please try loading this page with nbviewer.org.</b></div><div class=\"sk-container\" hidden><div class=\"sk-item\"><div class=\"sk-estimator sk-toggleable\"><input class=\"sk-toggleable__control sk-hidden--visually\" id=\"sk-estimator-id-1\" type=\"checkbox\" checked><label for=\"sk-estimator-id-1\" class=\"sk-toggleable__label sk-toggleable__label-arrow\">BernoulliNB</label><div class=\"sk-toggleable__content\"><pre>BernoulliNB()</pre></div></div></div></div></div>"
            ]
          },
          "metadata": {},
          "execution_count": 77
        }
      ],
      "source": [
        "BNBmodel.fit(bow_train, y_train)"
      ]
    },
    {
      "cell_type": "code",
      "execution_count": 78,
      "metadata": {
        "id": "eNzjV0mUqHSm"
      },
      "outputs": [],
      "source": [
        "y_pred = BNBmodel.predict(bow_test)"
      ]
    },
    {
      "cell_type": "markdown",
      "metadata": {
        "id": "ntqO9Ic1qHSm"
      },
      "source": [
        "4. Similarly, train the model using tf-idf features and print the performance report. \n",
        "\n",
        "    Is the performance expected? Why or why not?"
      ]
    },
    {
      "cell_type": "code",
      "execution_count": 79,
      "metadata": {
        "colab": {
          "base_uri": "https://localhost:8080/",
          "height": 74
        },
        "id": "8X0OXMVt-he0",
        "outputId": "7f2a2658-9c6a-41ec-e5de-64afd023b79f"
      },
      "outputs": [
        {
          "output_type": "execute_result",
          "data": {
            "text/plain": [
              "BernoulliNB()"
            ],
            "text/html": [
              "<style>#sk-container-id-2 {color: black;background-color: white;}#sk-container-id-2 pre{padding: 0;}#sk-container-id-2 div.sk-toggleable {background-color: white;}#sk-container-id-2 label.sk-toggleable__label {cursor: pointer;display: block;width: 100%;margin-bottom: 0;padding: 0.3em;box-sizing: border-box;text-align: center;}#sk-container-id-2 label.sk-toggleable__label-arrow:before {content: \"▸\";float: left;margin-right: 0.25em;color: #696969;}#sk-container-id-2 label.sk-toggleable__label-arrow:hover:before {color: black;}#sk-container-id-2 div.sk-estimator:hover label.sk-toggleable__label-arrow:before {color: black;}#sk-container-id-2 div.sk-toggleable__content {max-height: 0;max-width: 0;overflow: hidden;text-align: left;background-color: #f0f8ff;}#sk-container-id-2 div.sk-toggleable__content pre {margin: 0.2em;color: black;border-radius: 0.25em;background-color: #f0f8ff;}#sk-container-id-2 input.sk-toggleable__control:checked~div.sk-toggleable__content {max-height: 200px;max-width: 100%;overflow: auto;}#sk-container-id-2 input.sk-toggleable__control:checked~label.sk-toggleable__label-arrow:before {content: \"▾\";}#sk-container-id-2 div.sk-estimator input.sk-toggleable__control:checked~label.sk-toggleable__label {background-color: #d4ebff;}#sk-container-id-2 div.sk-label input.sk-toggleable__control:checked~label.sk-toggleable__label {background-color: #d4ebff;}#sk-container-id-2 input.sk-hidden--visually {border: 0;clip: rect(1px 1px 1px 1px);clip: rect(1px, 1px, 1px, 1px);height: 1px;margin: -1px;overflow: hidden;padding: 0;position: absolute;width: 1px;}#sk-container-id-2 div.sk-estimator {font-family: monospace;background-color: #f0f8ff;border: 1px dotted black;border-radius: 0.25em;box-sizing: border-box;margin-bottom: 0.5em;}#sk-container-id-2 div.sk-estimator:hover {background-color: #d4ebff;}#sk-container-id-2 div.sk-parallel-item::after {content: \"\";width: 100%;border-bottom: 1px solid gray;flex-grow: 1;}#sk-container-id-2 div.sk-label:hover label.sk-toggleable__label {background-color: #d4ebff;}#sk-container-id-2 div.sk-serial::before {content: \"\";position: absolute;border-left: 1px solid gray;box-sizing: border-box;top: 0;bottom: 0;left: 50%;z-index: 0;}#sk-container-id-2 div.sk-serial {display: flex;flex-direction: column;align-items: center;background-color: white;padding-right: 0.2em;padding-left: 0.2em;position: relative;}#sk-container-id-2 div.sk-item {position: relative;z-index: 1;}#sk-container-id-2 div.sk-parallel {display: flex;align-items: stretch;justify-content: center;background-color: white;position: relative;}#sk-container-id-2 div.sk-item::before, #sk-container-id-2 div.sk-parallel-item::before {content: \"\";position: absolute;border-left: 1px solid gray;box-sizing: border-box;top: 0;bottom: 0;left: 50%;z-index: -1;}#sk-container-id-2 div.sk-parallel-item {display: flex;flex-direction: column;z-index: 1;position: relative;background-color: white;}#sk-container-id-2 div.sk-parallel-item:first-child::after {align-self: flex-end;width: 50%;}#sk-container-id-2 div.sk-parallel-item:last-child::after {align-self: flex-start;width: 50%;}#sk-container-id-2 div.sk-parallel-item:only-child::after {width: 0;}#sk-container-id-2 div.sk-dashed-wrapped {border: 1px dashed gray;margin: 0 0.4em 0.5em 0.4em;box-sizing: border-box;padding-bottom: 0.4em;background-color: white;}#sk-container-id-2 div.sk-label label {font-family: monospace;font-weight: bold;display: inline-block;line-height: 1.2em;}#sk-container-id-2 div.sk-label-container {text-align: center;}#sk-container-id-2 div.sk-container {/* jupyter's `normalize.less` sets `[hidden] { display: none; }` but bootstrap.min.css set `[hidden] { display: none !important; }` so we also need the `!important` here to be able to override the default hidden behavior on the sphinx rendered scikit-learn.org. See: https://github.com/scikit-learn/scikit-learn/issues/21755 */display: inline-block !important;position: relative;}#sk-container-id-2 div.sk-text-repr-fallback {display: none;}</style><div id=\"sk-container-id-2\" class=\"sk-top-container\"><div class=\"sk-text-repr-fallback\"><pre>BernoulliNB()</pre><b>In a Jupyter environment, please rerun this cell to show the HTML representation or trust the notebook. <br />On GitHub, the HTML representation is unable to render, please try loading this page with nbviewer.org.</b></div><div class=\"sk-container\" hidden><div class=\"sk-item\"><div class=\"sk-estimator sk-toggleable\"><input class=\"sk-toggleable__control sk-hidden--visually\" id=\"sk-estimator-id-2\" type=\"checkbox\" checked><label for=\"sk-estimator-id-2\" class=\"sk-toggleable__label sk-toggleable__label-arrow\">BernoulliNB</label><div class=\"sk-toggleable__content\"><pre>BernoulliNB()</pre></div></div></div></div></div>"
            ]
          },
          "metadata": {},
          "execution_count": 79
        }
      ],
      "source": [
        "BNBmodel.fit(tfidf_train, y_train)"
      ]
    },
    {
      "cell_type": "code",
      "execution_count": 80,
      "metadata": {
        "colab": {
          "base_uri": "https://localhost:8080/"
        },
        "id": "gUi0SFfFqHSm",
        "outputId": "7d44b925-7dc9-480e-d0db-78bea8c8414d"
      },
      "outputs": [
        {
          "output_type": "stream",
          "name": "stdout",
          "text": [
            "              precision    recall  f1-score   support\n",
            "\n",
            "           0       0.96      0.97      0.97      7430\n",
            "           1       0.57      0.47      0.52       561\n",
            "\n",
            "    accuracy                           0.94      7991\n",
            "   macro avg       0.77      0.72      0.74      7991\n",
            "weighted avg       0.93      0.94      0.94      7991\n",
            "\n"
          ]
        }
      ],
      "source": [
        "y_pred = BNBmodel.predict(tfidf_test)\n",
        "print(classification_report(y_test, y_pred))"
      ]
    },
    {
      "cell_type": "markdown",
      "metadata": {
        "id": "ZJQu2WZyqHSm"
      },
      "source": [
        "5. Finally, train the model using Word2Vec embeddings and report the performance. "
      ]
    },
    {
      "cell_type": "code",
      "execution_count": 81,
      "metadata": {
        "colab": {
          "base_uri": "https://localhost:8080/"
        },
        "id": "h69fbpcvbHs8",
        "outputId": "43f77cca-4e9e-424c-aa78-efe4c5522643"
      },
      "outputs": [
        {
          "output_type": "stream",
          "name": "stdout",
          "text": [
            "              precision    recall  f1-score   support\n",
            "\n",
            "           0       1.00      0.00      0.00      7430\n",
            "           1       0.07      1.00      0.13       561\n",
            "\n",
            "    accuracy                           0.07      7991\n",
            "   macro avg       0.54      0.50      0.07      7991\n",
            "weighted avg       0.93      0.07      0.01      7991\n",
            "\n"
          ]
        }
      ],
      "source": [
        "BNBmodel.fit(w2v_train, y_train)\n",
        "\n",
        "y_pred = BNBmodel.predict(w2v_test)\n",
        "print(classification_report(y_test, y_pred))"
      ]
    },
    {
      "cell_type": "markdown",
      "metadata": {
        "id": "fm1hTdBf_qJd"
      },
      "source": [
        "6. Discuss the differences in performace using tf-idf vs skim-gram embeddings. \n",
        "\n",
        "F-IDF and skip-gram embeddings are two different approaches for representing text data in a vector space, and their performance can vary depending on the task and the specific dataset."
      ]
    },
    {
      "cell_type": "markdown",
      "metadata": {
        "id": "-XdbHGM8qHSm"
      },
      "source": [
        "7. Examine a few tweets where the model(s) failed. \n",
        "What other features would you include in the next iteration?\n",
        "\n",
        "    YOUR ANSWER HERE"
      ]
    },
    {
      "cell_type": "markdown",
      "metadata": {
        "id": "Wmj2oYYlAG9t"
      },
      "source": [
        "# Task 5. Bidirectional LSTM "
      ]
    },
    {
      "cell_type": "markdown",
      "metadata": {
        "id": "ivL3qYLXALKo"
      },
      "source": [
        "In this task, you will build a bidirectional LSTM (BiLSTM) model to detect tweets identified as hate speech, and visualize the embedding layer using Tensorboard projector. \n",
        "\n",
        "Why BiLSTM? LSTM, at its core, preserves information from inputs that has already passed through it using the hidden state. Unidirectional LSTM only preserves information of the past because the only inputs it has seen are from the past. BiLSTMs run inputs in both ways, one from past to future and one from future to past and show very good results as they can understand context better [ref](https://stackoverflow.com/questions/43035827/whats-the-difference-between-a-bidirectional-lstm-and-an-lstm)."
      ]
    },
    {
      "cell_type": "markdown",
      "metadata": {
        "id": "8bFkC-qRqHSn"
      },
      "source": [
        "1. Tokenizing and padding. \n",
        "    \n",
        "    As LSTM expects every sentence to be of the same length, in addition to [`Tokenizer`](https://www.tensorflow.org/api_docs/python/tf/keras/preprocessing/text/Tokenizer) with a given number of vocabulary `VOCAB_SIZE`, we need to [pad](https://www.tensorflow.org/api_docs/python/tf/keras/utils/pad_sequences) shorter tweets with 0s until the length is `MAX_LEN` and truncate longer tweets to be exact `MAX_LEN` long. \n",
        "    \n",
        "   Function `tokenize_pad_sequences` is provided except that you need to supply correct `num_words` and `filters`; do NOT filter `#`. \n",
        "   \n",
        "   We feed the processed `tidy_tweet` to `tokenize_pad_sequences`, but one can perform the preprocessing steps in `Tokenizer` and apply it directly on the raw tweets."
      ]
    },
    {
      "cell_type": "code",
      "execution_count": 82,
      "metadata": {
        "id": "iC1Q6k3j-5qW"
      },
      "outputs": [],
      "source": [
        "VOCAB_SIZE = 25000  \n",
        "MAX_LEN = 50"
      ]
    },
    {
      "cell_type": "code",
      "execution_count": 90,
      "metadata": {
        "id": "S1LG6ZQ7CKKi"
      },
      "outputs": [],
      "source": [
        "#!pip install tensorflow\n",
        "import tensorflow as tf\n",
        "from tensorflow import keras\n",
        "\n",
        "from keras.preprocessing.text import Tokenizer\n",
        "#from keras.preprocessing.sequence import pad_sequences\n",
        "from tensorflow.keras.preprocessing.sequence import pad_sequences\n",
        "\n",
        "\n",
        "def tokenize_pad_sequences(text):\n",
        "    '''\n",
        "    tokenize the input text into sequences of integers and then\n",
        "    pad each sequence to the same length\n",
        "    '''\n",
        "    # Text tokenization\n",
        "    tokenizer = Tokenizer(\n",
        "        num_words=VOCAB_SIZE,\n",
        "        filters='',\n",
        "        lower=True, split=' ', oov_token='oov')\n",
        "    tokenizer.fit_on_texts(text)\n",
        "    # Transforms text to a sequence of integers\n",
        "    X = tokenizer.texts_to_sequences(text)\n",
        "    # Pad sequences to the same length\n",
        "    X = pad_sequences(X, padding='post', maxlen=MAX_LEN)\n",
        "\n",
        "    return X, tokenizer"
      ]
    },
    {
      "cell_type": "code",
      "execution_count": 91,
      "metadata": {
        "colab": {
          "base_uri": "https://localhost:8080/"
        },
        "id": "6MhnJ9nxCNca",
        "outputId": "f868ad64-e042-403c-814e-a5803ce33f19"
      },
      "outputs": [
        {
          "output_type": "stream",
          "name": "stdout",
          "text": [
            "Before Tokenization & Padding \n",
            " father dysfunct selfish drag kid dysfunct #\n",
            "After Tokenization & Padding \n",
            " [  16 6330 2921 1627  214 6330    2    0    0    0    0    0    0    0\n",
            "    0    0    0    0    0    0    0    0    0    0    0    0    0    0\n",
            "    0    0    0    0    0    0    0    0    0    0    0    0    0    0\n",
            "    0    0    0    0    0    0    0    0]\n"
          ]
        }
      ],
      "source": [
        "print('Before Tokenization & Padding \\n', raw['tidy_tweet'][0])\n",
        "X, tokenizer = tokenize_pad_sequences(raw['tidy_tweet'])\n",
        "print('After Tokenization & Padding \\n', X[0])\n",
        "y = raw['label'].values"
      ]
    },
    {
      "cell_type": "markdown",
      "metadata": {
        "id": "nhG33jJeqHSn"
      },
      "source": [
        "2. Let's split `X` into training and testing datasets, save 25% for testing. \n",
        "Then split training dataset into training and validation datasets, with 20% for validation. \n",
        "Set both `random_state` to be 42. \n",
        "Stratify both splits. "
      ]
    },
    {
      "cell_type": "code",
      "execution_count": 93,
      "metadata": {
        "id": "PIdaTdBKCP-2"
      },
      "outputs": [],
      "source": [
        "from sklearn.model_selection import train_test_split\n",
        "\n",
        "\n",
        "X_train, X_test, y_train, y_test = train_test_split(X, y, test_size = .25, random_state = 42\n",
        "                                                    )\n",
        "X_train, X_val, y_train, y_val = train_test_split(X, y, random_state = 42)"
      ]
    },
    {
      "cell_type": "code",
      "execution_count": 94,
      "metadata": {
        "colab": {
          "base_uri": "https://localhost:8080/"
        },
        "id": "G2G5PMwGCcxI",
        "outputId": "59531bfc-b4f0-4147-f31a-1b5e4e0f895e"
      },
      "outputs": [
        {
          "output_type": "stream",
          "name": "stdout",
          "text": [
            "Train Set -> (23971, 50) (23971,)\n",
            "Validation Set -> (7991, 50) (7991,)\n",
            "Test Set -> (7991, 50) (7991,)\n"
          ]
        }
      ],
      "source": [
        "print('Train Set ->', X_train.shape, y_train.shape)\n",
        "print('Validation Set ->', X_val.shape, y_val.shape)\n",
        "print('Test Set ->', X_test.shape, y_test.shape)"
      ]
    },
    {
      "cell_type": "markdown",
      "metadata": {
        "id": "ZmZ2Y9gzqHSn"
      },
      "source": [
        "3. Now build a sequential model:\n",
        "\n",
        "    - an embedding layer\n",
        "    - a bidirectional LSTM with 32 units and set `return_sequences=True` in LSTM\n",
        "    - a global average pooling operation for temporal data\n",
        "    - a dropout layer with 20% rate\n",
        "    - a dense layer of 32 units and set the activation function to be ReLu\n",
        "    - a dense layer of 1 unit and set the proper activation function for classification"
      ]
    },
    {
      "cell_type": "code",
      "execution_count": 95,
      "metadata": {
        "id": "yIHXdzW7Che7",
        "scrolled": false
      },
      "outputs": [],
      "source": [
        "from keras.models import Sequential\n",
        "from keras.layers import Dense, Embedding, GlobalAveragePooling1D\n",
        "\n",
        "EMBEDDING_DIM = 16   \n",
        "model = Sequential([\n",
        "   \n",
        "])"
      ]
    },
    {
      "cell_type": "code",
      "execution_count": 96,
      "metadata": {
        "colab": {
          "base_uri": "https://localhost:8080/",
          "height": 283
        },
        "id": "bpioKB2AC6aH",
        "outputId": "229013de-ba47-4354-8f5d-e8196eb78931"
      },
      "outputs": [
        {
          "output_type": "error",
          "ename": "ValueError",
          "evalue": "ignored",
          "traceback": [
            "\u001b[0;31m---------------------------------------------------------------------------\u001b[0m",
            "\u001b[0;31mValueError\u001b[0m                                Traceback (most recent call last)",
            "\u001b[0;32m<ipython-input-96-5f15418b3570>\u001b[0m in \u001b[0;36m<module>\u001b[0;34m\u001b[0m\n\u001b[0;32m----> 1\u001b[0;31m \u001b[0mmodel\u001b[0m\u001b[0;34m.\u001b[0m\u001b[0msummary\u001b[0m\u001b[0;34m(\u001b[0m\u001b[0;34m)\u001b[0m\u001b[0;34m\u001b[0m\u001b[0;34m\u001b[0m\u001b[0m\n\u001b[0m",
            "\u001b[0;32m/usr/local/lib/python3.9/dist-packages/keras/engine/training.py\u001b[0m in \u001b[0;36msummary\u001b[0;34m(self, line_length, positions, print_fn, expand_nested, show_trainable, layer_range)\u001b[0m\n\u001b[1;32m   3290\u001b[0m         \"\"\"\n\u001b[1;32m   3291\u001b[0m         \u001b[0;32mif\u001b[0m \u001b[0;32mnot\u001b[0m \u001b[0mself\u001b[0m\u001b[0;34m.\u001b[0m\u001b[0mbuilt\u001b[0m\u001b[0;34m:\u001b[0m\u001b[0;34m\u001b[0m\u001b[0;34m\u001b[0m\u001b[0m\n\u001b[0;32m-> 3292\u001b[0;31m             raise ValueError(\n\u001b[0m\u001b[1;32m   3293\u001b[0m                 \u001b[0;34m\"This model has not yet been built. \"\u001b[0m\u001b[0;34m\u001b[0m\u001b[0;34m\u001b[0m\u001b[0m\n\u001b[1;32m   3294\u001b[0m                 \u001b[0;34m\"Build the model first by calling `build()` or by calling \"\u001b[0m\u001b[0;34m\u001b[0m\u001b[0;34m\u001b[0m\u001b[0m\n",
            "\u001b[0;31mValueError\u001b[0m: This model has not yet been built. Build the model first by calling `build()` or by calling the model on a batch of data."
          ]
        }
      ],
      "source": [
        "model.summary()"
      ]
    },
    {
      "cell_type": "markdown",
      "metadata": {
        "id": "ZjzENFrAqHSo"
      },
      "source": [
        "4. Compile the model. \n",
        "\n",
        "    Fill in a proper loss function and use adam as the optimizer. \n",
        "    For metrics, include precision and recall in the metrics, in addition to accuracy. "
      ]
    },
    {
      "cell_type": "code",
      "execution_count": null,
      "metadata": {
        "id": "RuhniNmJC2AR"
      },
      "outputs": [],
      "source": [
        "from keras.metrics import Precision, Recall\n",
        "model.compile(\n",
        "    loss='binary_crossentropy',\n",
        "    optimizer='adam', \n",
        "    metrics=['accuracy', Precision(), Recall()]\n",
        "    ) "
      ]
    },
    {
      "cell_type": "markdown",
      "metadata": {
        "id": "hiXFn0OJqHSo"
      },
      "source": [
        "5. Train the model for 10 epochs on training dataset with a  validation set."
      ]
    },
    {
      "cell_type": "code",
      "execution_count": null,
      "metadata": {
        "id": "V1pd8qpIC_BL"
      },
      "outputs": [],
      "source": [
        "EPOCHS=10\n",
        "BATCH_SIZE = 32\n",
        "history = model.fit(X_train, y_train,\n",
        "                    validation_data=# YOUR CODE HERE\n",
        "                    batch_size=BATCH_SIZE, epochs=EPOCHS, verbose=2)"
      ]
    },
    {
      "cell_type": "markdown",
      "metadata": {
        "id": "USmxE6M1qHSo"
      },
      "source": [
        "6. Function `plot_graphs` is provided below to visualize how the performance of model progresses as a function of epoch. \n",
        "\n",
        "    Visualize accuracy and loss. "
      ]
    },
    {
      "cell_type": "code",
      "execution_count": null,
      "metadata": {
        "id": "Z3IuUmpODCz1"
      },
      "outputs": [],
      "source": [
        "def plot_graphs(history, metric):\n",
        "  fig, ax = plt.subplots()\n",
        "  plt.plot(history.history[metric])\n",
        "  plt.plot(history.history['val_'+metric], '')\n",
        "  ax.set_xticks(range(EPOCHS))\n",
        "  plt.xlabel(\"Epochs\")\n",
        "  plt.ylabel(metric)\n",
        "  plt.legend([metric, 'val_'+metric])"
      ]
    },
    {
      "cell_type": "code",
      "execution_count": null,
      "metadata": {
        "id": "dXsbpHwQDNbf"
      },
      "outputs": [],
      "source": [
        "# YOUR CODE HERE"
      ]
    },
    {
      "cell_type": "code",
      "execution_count": null,
      "metadata": {
        "id": "emrqqQacDPFL"
      },
      "outputs": [],
      "source": [
        "# YOUR CODE HERE"
      ]
    },
    {
      "cell_type": "markdown",
      "metadata": {
        "id": "cGE0rR41qHSo"
      },
      "source": [
        "7. The model starts to overfit after a couple of epochs. \n",
        "Consider using [early stopping](https://www.tensorflow.org/api_docs/python/tf/keras/callbacks/EarlyStopping) to stop training when a monitored metric has stopped improving. \n",
        "\n",
        "  What can we do to tame overfitting?\n",
        "\n",
        "    YOUR ANSWER HERE"
      ]
    },
    {
      "cell_type": "markdown",
      "metadata": {
        "id": "bJj8v7mdqHSo"
      },
      "source": [
        "8. Print the classification report of the model on test dataset. "
      ]
    },
    {
      "cell_type": "code",
      "execution_count": null,
      "metadata": {
        "id": "AdobNLdZDT81"
      },
      "outputs": [],
      "source": [
        "# YOUR CODE HERE"
      ]
    },
    {
      "cell_type": "markdown",
      "metadata": {
        "id": "dgfrk6iRqHSo"
      },
      "source": [
        "9. Discuss: how does the BiLSTM model improve the classification over naive Bayes? \n",
        "\n",
        "    YOUR ANSWER HERE"
      ]
    },
    {
      "cell_type": "code",
      "execution_count": null,
      "metadata": {
        "id": "eQ7B-g_fEWYe"
      },
      "outputs": [],
      "source": [
        "# # NB using tf-idf\n",
        "#               precision    recall  f1-score   support\n",
        "\n",
        "#            0       0.96      0.97      0.97      7430\n",
        "#            1       0.55      0.48      0.51       561\n",
        "\n",
        "#     accuracy                           0.94      7991\n",
        "#    macro avg       0.75      0.72      0.74      7991\n",
        "# weighted avg       0.93      0.94      0.93      7991\n",
        "\n",
        "# # NB using word2vec\n",
        "#               precision    recall  f1-score   support\n",
        "\n",
        "#            0       0.98      0.85      0.91      7430\n",
        "#            1       0.29      0.82      0.43       561\n",
        "\n",
        "#     accuracy                           0.85      7991\n",
        "#    macro avg       0.64      0.83      0.67      7991\n",
        "# weighted avg       0.94      0.85      0.88      7991"
      ]
    },
    {
      "cell_type": "markdown",
      "metadata": {
        "id": "pmmJzPMaqHSp"
      },
      "source": [
        "10. Visualize embeddings using [Embedding Projector](https://www.tensorflow.org/tensorboard/tensorboard_projector_plugin) in Tensorboard. \n",
        "The setup for Tensorboard can be tricky, most of the code is provided. \n",
        "\n",
        "    TensorBoard reads tensors and metadata from the logs of your tensorflow projects. \n",
        "    The path to the log directory is specified with log_dir below. \n",
        "    \n",
        "    In order to load the data into Tensorboard, we need to save a training checkpoint to that directory, along with metadata that allows for visualization of a specific layer of interest in the model.\n",
        "\n",
        "    Load the TensorBoard notebook extension and import `projector` from `tensorboard.plugins`."
      ]
    },
    {
      "cell_type": "code",
      "execution_count": null,
      "metadata": {
        "id": "h-Nlj-xPcDcJ"
      },
      "outputs": [],
      "source": [
        "%load_ext tensorboard"
      ]
    },
    {
      "cell_type": "code",
      "execution_count": null,
      "metadata": {
        "id": "hPv_upTPcEB6"
      },
      "outputs": [],
      "source": [
        "from tensorboard.plugins import projector"
      ]
    },
    {
      "cell_type": "markdown",
      "metadata": {
        "id": "O6FqHvlWqHSp"
      },
      "source": [
        "11. Clear any logs from previous runs if any."
      ]
    },
    {
      "cell_type": "code",
      "execution_count": null,
      "metadata": {
        "id": "UFJH2kexhsDW"
      },
      "outputs": [],
      "source": [
        "rm -rf /logs/  "
      ]
    },
    {
      "cell_type": "markdown",
      "metadata": {
        "id": "Ljzn8weFqHSp"
      },
      "source": [
        "12. Set up a logs directory, so Tensorboard knows where to look for data."
      ]
    },
    {
      "cell_type": "code",
      "execution_count": null,
      "metadata": {
        "id": "PNONqOdoeB65"
      },
      "outputs": [],
      "source": [
        "import os\n",
        "log_dir='/logs/tweets-example/'\n",
        "if not os.path.exists(log_dir):\n",
        "    os.makedirs(log_dir)"
      ]
    },
    {
      "cell_type": "markdown",
      "metadata": {
        "id": "9pYgffwFqHSp"
      },
      "source": [
        "13. Save the first `VOCAB_SIZE` most frequent words in the vocabulary as `metadata.tsv`."
      ]
    },
    {
      "cell_type": "code",
      "execution_count": null,
      "metadata": {
        "id": "O7ThVTUleT9o"
      },
      "outputs": [],
      "source": [
        "with open(os.path.join(log_dir, 'metadata.tsv'), \"w\") as f:\n",
        "  i = 0\n",
        "  for label in tokenizer.word_index.keys():\n",
        "    if label == 'oov':\n",
        "      continue # skip oov\n",
        "    f.write(\"{}\\n\".format(label))\n",
        "    if i > VOCAB_SIZE:\n",
        "      break\n",
        "    i += 1"
      ]
    },
    {
      "cell_type": "markdown",
      "metadata": {
        "id": "djoU3-LcqHSp"
      },
      "source": [
        "14. Save the weights we want to analyze as a variable. Note that the first value represents any unknown word, which is not in the metadata, here we will remove this value."
      ]
    },
    {
      "cell_type": "code",
      "execution_count": null,
      "metadata": {
        "id": "GoPzZpeHeZGV"
      },
      "outputs": [],
      "source": [
        "weights = tf.Variable(model.layers[0].get_weights()[0][1:]) # `embeddings` has a shape of (num_vocab, embedding_dim) "
      ]
    },
    {
      "cell_type": "markdown",
      "metadata": {
        "id": "6PfF91UpqHSp"
      },
      "source": [
        "15. Create a checkpoint from embedding, the filename and key are the name of the tensor."
      ]
    },
    {
      "cell_type": "code",
      "execution_count": null,
      "metadata": {
        "id": "uLC5D9PCqHSq"
      },
      "outputs": [],
      "source": [
        "checkpoint = tf.train.Checkpoint(embedding=weights)\n",
        "checkpoint.save(os.path.join(log_dir, \"embedding.ckpt\"))"
      ]
    },
    {
      "cell_type": "markdown",
      "metadata": {
        "id": "NhRQaOPUqHSq"
      },
      "source": [
        "16. Set up config."
      ]
    },
    {
      "cell_type": "code",
      "execution_count": null,
      "metadata": {
        "id": "cH4m0nY7IUFd"
      },
      "outputs": [],
      "source": [
        "config = projector.ProjectorConfig()\n",
        "embedding = config.embeddings.add()"
      ]
    },
    {
      "cell_type": "markdown",
      "metadata": {
        "id": "q_7mVeSHqHSq"
      },
      "source": [
        "17. The name of the tensor will be suffixed by `/.ATTRIBUTES/VARIABLE_VALUE`."
      ]
    },
    {
      "cell_type": "code",
      "execution_count": null,
      "metadata": {
        "id": "LH5DxopZqHSq"
      },
      "outputs": [],
      "source": [
        "embedding.tensor_name = \"embedding/.ATTRIBUTES/VARIABLE_VALUE\"\n",
        "embedding.metadata_path = 'metadata.tsv'\n",
        "projector.visualize_embeddings(log_dir, config)"
      ]
    },
    {
      "cell_type": "markdown",
      "metadata": {
        "id": "Fbk41Eo3qHSq"
      },
      "source": [
        "18. Verify the following files exist under the current directory"
      ]
    },
    {
      "cell_type": "code",
      "execution_count": null,
      "metadata": {
        "id": "p2Cr_8A4hRHq"
      },
      "outputs": [],
      "source": [
        "ls /logs/tweets-example/"
      ]
    },
    {
      "cell_type": "markdown",
      "metadata": {
        "id": "R2iMkZh8qHSq"
      },
      "source": [
        "19. Now run Tensorboard against on log data we just saved. \n",
        "\n",
        "    You may need to run this cell **twice** to see the projector correctly. \n",
        "    Use Chrome for least friction."
      ]
    },
    {
      "cell_type": "code",
      "execution_count": null,
      "metadata": {
        "id": "aQnjWJpSeh1e"
      },
      "outputs": [],
      "source": [
        "%tensorboard --logdir /logs/tweets-example/"
      ]
    },
    {
      "cell_type": "markdown",
      "metadata": {
        "id": "TC52pxQ6pFIP"
      },
      "source": [
        "The TensorBoard Projector can be a great tool for interpreting and visualzing embedding. The dashboard allows users to search for specific terms, and highlights words that are adjacent to each other in the embedding (low-dimensional) space. Try a few word in the Search box and see if the embeddings make sense. "
      ]
    },
    {
      "cell_type": "markdown",
      "metadata": {
        "id": "wRlfqbv5FAgr"
      },
      "source": [
        "# Task 6. Interpretation"
      ]
    },
    {
      "cell_type": "markdown",
      "metadata": {
        "id": "S8Z5epwHqHSr"
      },
      "source": [
        "Lastly let's try to understnad predictions by BiLSTM using a model agnostic approach -- [Local interpretable model-agnostic explanations (LIME)](https://christophm.github.io/interpretable-ml-book/lime.html)\n",
        "\n",
        "1. Import `LimeTextExplainer` from the [`lime_text`](https://lime-ml.readthedocs.io/en/latest/lime.html#module-lime.lime_text) module in package [`lime`](https://github.com/marcotcr/lime)"
      ]
    },
    {
      "cell_type": "code",
      "execution_count": null,
      "metadata": {
        "id": "zve69BHRFDPW"
      },
      "outputs": [],
      "source": [
        "from lime.lime_text import LimeTextExplainer"
      ]
    },
    {
      "cell_type": "markdown",
      "metadata": {
        "id": "OLb9MblAqHSr"
      },
      "source": [
        "2. Create an instance of `LimeTextExplainer`, call it `explanier`. "
      ]
    },
    {
      "cell_type": "code",
      "execution_count": null,
      "metadata": {
        "id": "awkFCv5qFEpt"
      },
      "outputs": [],
      "source": [
        "explainer = LimeTextExplainer(class_names=['no', 'yes'], random_state=2)"
      ]
    },
    {
      "cell_type": "markdown",
      "metadata": {
        "id": "HGB_kjmIqHSr"
      },
      "source": [
        "3. Method `explain_instance` expects the `classifier_fn` to be a function, we provide the function `predict_proba` as below. "
      ]
    },
    {
      "cell_type": "code",
      "execution_count": null,
      "metadata": {
        "id": "fATA1nDYFNCH"
      },
      "outputs": [],
      "source": [
        "def predict_proba(arr):\n",
        "    processed = tokenizer.texts_to_sequences(arr)\n",
        "    processed = pad_sequences(processed, padding='post', maxlen=MAX_LEN)\n",
        "    pred = model.predict(processed)\n",
        "    r = []\n",
        "    for i in pred:\n",
        "        temp = i[0]\n",
        "        r.append(np.array([1-temp,temp])) \n",
        "    return np.array(r)"
      ]
    },
    {
      "cell_type": "markdown",
      "metadata": {
        "id": "EOOET9F0qHSr"
      },
      "source": [
        "4. Read about [`explain_instance`](https://lime-ml.readthedocs.io/en/latest/lime.html#lime.lime_text.LimeTextExplainer.explain_instance). \n",
        "\n",
        "    Create an instance named `exp` to explain the 16399th tidy tweet from the original dataset, i.e., `raw.tidy_tweet.iloc[16399]`. "
      ]
    },
    {
      "cell_type": "code",
      "execution_count": null,
      "metadata": {
        "id": "IlACxediFQb0"
      },
      "outputs": [],
      "source": [
        "idx = 16399 \n",
        "exp = explainer.explain_instance(\n",
        "    # YOUR CODE HERE\n",
        "    num_features=6)\n",
        "exp.show_in_notebook(text=raw.tidy_tweet.iloc[idx])"
      ]
    },
    {
      "cell_type": "markdown",
      "metadata": {
        "id": "6Ts3AF8TqHSr"
      },
      "source": [
        "5. Pick another random tweet and generate explanations for the prediction."
      ]
    },
    {
      "cell_type": "code",
      "execution_count": null,
      "metadata": {
        "id": "2ZqQCxsyFSJY"
      },
      "outputs": [],
      "source": [
        "# YOUR CODE HERE"
      ]
    },
    {
      "cell_type": "markdown",
      "metadata": {
        "id": "SS9n6kkVqHSr"
      },
      "source": [
        "6. Jot down your observations in explaining the model. \n",
        "\n",
        "    YOUR ANSWER HERE"
      ]
    },
    {
      "cell_type": "markdown",
      "metadata": {
        "id": "i1DXyQkTz50O"
      },
      "source": [
        "# Acknowledgement & Reference"
      ]
    },
    {
      "cell_type": "markdown",
      "metadata": {
        "id": "BnrR8TmJz8AM"
      },
      "source": [
        "- Data is adapted from [Twitter sentiment analysis](https://datahack.analyticsvidhya.com/contest/practice-problem-twitter-sentiment-analysis/#ProblemStatement)\n",
        "- [Twitter sentiment analysis](https://github.com/prateekjoshi565/twitter_sentiment_analysis/blob/master/code_sentiment_analysis.ipynb) \n",
        "- [Introduction to Word Embedding and Word2Vec](https://towardsdatascience.com/introduction-to-word-embedding-and-word2vec-652d0c2060fa)\n",
        "- [When to use GRU over LSTM?](https://datascience.stackexchange.com/questions/14581/when-to-use-gru-over-lstm)\n",
        "- Use a trained Word2Vec, Doc2Vec or FastTest embedding by `gensim` in buiding an embedding layers in Tensorflow, here's [how-to](https://github.com/RaRe-Technologies/gensim/wiki/Using-Gensim-Embeddings-with-Keras-and-Tensorflow)."
      ]
    }
  ],
  "metadata": {
    "accelerator": "GPU",
    "colab": {
      "provenance": []
    },
    "gpuClass": "standard",
    "kernelspec": {
      "display_name": "Python 3.9.14 64-bit",
      "language": "python",
      "name": "python3"
    },
    "language_info": {
      "codemirror_mode": {
        "name": "ipython",
        "version": 3
      },
      "file_extension": ".py",
      "mimetype": "text/x-python",
      "name": "python",
      "nbconvert_exporter": "python",
      "pygments_lexer": "ipython3",
      "version": "3.9.14"
    },
    "toc": {
      "base_numbering": 1,
      "nav_menu": {},
      "number_sections": true,
      "sideBar": true,
      "skip_h1_title": false,
      "title_cell": "Table of Contents",
      "title_sidebar": "Contents",
      "toc_cell": false,
      "toc_position": {},
      "toc_section_display": true,
      "toc_window_display": true
    },
    "vscode": {
      "interpreter": {
        "hash": "a665b5d41d17b532ea9890333293a1b812fa0b73c9c25c950b3cedf1bebd0438"
      }
    }
  },
  "nbformat": 4,
  "nbformat_minor": 0
}